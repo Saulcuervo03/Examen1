{
  "nbformat": 4,
  "nbformat_minor": 0,
  "metadata": {
    "colab": {
      "provenance": [],
      "authorship_tag": "ABX9TyPKv3DNuGbcYdaQMb2nkJ60",
      "include_colab_link": true
    },
    "kernelspec": {
      "name": "python3",
      "display_name": "Python 3"
    },
    "language_info": {
      "name": "python"
    }
  },
  "cells": [
    {
      "cell_type": "markdown",
      "metadata": {
        "id": "view-in-github",
        "colab_type": "text"
      },
      "source": [
        "<a href=\"https://colab.research.google.com/github/Saulcuervo03/Examen1/blob/main/Last_mile2.ipynb\" target=\"_parent\"><img src=\"https://colab.research.google.com/assets/colab-badge.svg\" alt=\"Open In Colab\"/></a>"
      ]
    },
    {
      "cell_type": "markdown",
      "source": [
        "**Last_mile2**"
      ],
      "metadata": {
        "id": "_K9VzWdKwJ_z"
      }
    },
    {
      "cell_type": "markdown",
      "source": [
        "Por: Saúl Jesús Cuervo Méndez"
      ],
      "metadata": {
        "id": "V_rFFQVWwQDj"
      }
    },
    {
      "cell_type": "markdown",
      "source": [
        "Sustitución de valores nulos"
      ],
      "metadata": {
        "id": "hXQvm4SFwU5m"
      }
    },
    {
      "cell_type": "code",
      "execution_count": 1,
      "metadata": {
        "id": "-qK2Mx4zW0WO"
      },
      "outputs": [],
      "source": [
        "#Importamos librerias requeridas\n",
        "import pandas as pd \n",
        "import numpy as np \n",
        "import matplotlib.pyplot as  plt"
      ]
    },
    {
      "cell_type": "code",
      "source": [
        "#Cargar archivo csv desde seaborn\n",
        "from google.colab import files \n",
        "files.upload()"
      ],
      "metadata": {
        "id": "-cVbzyTlW7zX"
      },
      "execution_count": null,
      "outputs": []
    },
    {
      "cell_type": "code",
      "source": [
        "#Carga desde un archivo .csv sin indice \n",
        "data = pd.read_csv('lastmile_delivery_operations_mit_lift_lab_serving_customer.csv')"
      ],
      "metadata": {
        "id": "TE3stHM6W-BG"
      },
      "execution_count": 3,
      "outputs": []
    },
    {
      "cell_type": "code",
      "source": [
        "#Imprimo los primeros 5 registros del DataFrame\n",
        "data.head()"
      ],
      "metadata": {
        "id": "mNM68OUrXUTA"
      },
      "execution_count": null,
      "outputs": []
    },
    {
      "cell_type": "code",
      "source": [
        "#Corroboramos valores nulos \n",
        "valores_nulos=data.isnull().sum()\n",
        "valores_nulos"
      ],
      "metadata": {
        "id": "bFhMOOw8XZ2x"
      },
      "execution_count": null,
      "outputs": []
    },
    {
      "cell_type": "code",
      "source": [
        "#Sustituir valores nulos por un string en concreto\n",
        "data[\"picture_cargo_being_delivered\"]= data[\"picture_cargo_being_delivered\"].fillna(\"No_picture\")\n",
        "data \n",
        "#Argumentacion: Se utilizó el método de sustituir los valores nulos por un valor en concreto. \n",
        "#En este caso los datos son las fotos de la mercancía siendo entregada. Los valores nulos son string y por eso se reemplazaron estos valores con la frase \"No_picture\" para no \n",
        "#perder la información de las demás filas."
      ],
      "metadata": {
        "id": "LKaQcHtBX1QJ"
      },
      "execution_count": null,
      "outputs": []
    },
    {
      "cell_type": "code",
      "source": [
        "#Corroboramos valores nulos \n",
        "valores_nulos=data.isnull().sum()\n",
        "valores_nulos"
      ],
      "metadata": {
        "id": "nZFXv1dzX_vS"
      },
      "execution_count": null,
      "outputs": []
    },
    {
      "cell_type": "code",
      "source": [
        "#Eliminamos columnas innecesarias \n",
        "data2= data.drop(['picture_cargo_being_delivered_captions'], axis=1)\n",
        "data2\n",
        "#Se eliminó la columna \"picture_cargo_being_delivered_captions\" del dataframe porque ninguna fila tiene datos; todos son valores nulos por lo que es \n",
        "#mejor quitar la columna del conjunto de datos ya que es innecesaria."
      ],
      "metadata": {
        "id": "OHF2de26Yy7E"
      },
      "execution_count": null,
      "outputs": []
    },
    {
      "cell_type": "code",
      "source": [
        "#Corroboramos valores nulos \n",
        "valores_nulos=data2.isnull().sum()\n",
        "valores_nulos"
      ],
      "metadata": {
        "id": "9lx_PxMIY5r5"
      },
      "execution_count": null,
      "outputs": []
    },
    {
      "cell_type": "code",
      "source": [
        "#Sustituir valores nulos por un string en concreto\n",
        "data2[\"picture_cargo_being_delivered_urls\"]= data[\"picture_cargo_being_delivered_urls\"].fillna(\"No_url_available\")\n",
        "data2 \n",
        "#Argumentacion: Se utilizó el método de sustituir los valores nulos por un valor en concreto. \n",
        "#En este caso los datos son los URL de fotos de la mercancía siendo entregada. Los valores nulos son string y por eso se reemplazaron estos \n",
        "#valores con la frase \"No_url_available\" para no perder la información de las demás filas."
      ],
      "metadata": {
        "id": "ggIZ_3e9ZT2N"
      },
      "execution_count": null,
      "outputs": []
    },
    {
      "cell_type": "code",
      "source": [
        "#Corroboramos valores nulos \n",
        "valores_nulos=data2.isnull().sum().sum()\n",
        "valores_nulos"
      ],
      "metadata": {
        "id": "Pi6AY0LBZePU"
      },
      "execution_count": null,
      "outputs": []
    },
    {
      "cell_type": "code",
      "source": [
        "data2.info()"
      ],
      "metadata": {
        "id": "QoyD4YwxGJCB"
      },
      "execution_count": null,
      "outputs": []
    },
    {
      "cell_type": "code",
      "source": [
        "#Filtro por columnas\n",
        "filtro_cual=data2.iloc[ : , [0,1,2,3,4,5,6,7,8,9,10,11,12,13,17,18,21,22,24,25]]\n",
        "filtro_cual"
      ],
      "metadata": {
        "id": "JKRWrK27GeA0"
      },
      "execution_count": null,
      "outputs": []
    },
    {
      "cell_type": "code",
      "source": [
        "#Filtro por columnas\n",
        "filtro1=data2.iloc[ : , [14,15,16,19,20,23]]\n",
        "filtro1"
      ],
      "metadata": {
        "id": "5kHMnPlvHWJq"
      },
      "execution_count": null,
      "outputs": []
    },
    {
      "cell_type": "code",
      "source": [
        "#Corroboramos valores nulos \n",
        "valores_nulos=filtro_cual.isnull().sum()\n",
        "valores_nulos"
      ],
      "metadata": {
        "id": "sYBSKb5cH-aa"
      },
      "execution_count": null,
      "outputs": []
    },
    {
      "cell_type": "code",
      "source": [
        "#Corroboramos valores nulos \n",
        "valores_nulos=filtro1.isnull().sum()\n",
        "valores_nulos"
      ],
      "metadata": {
        "id": "h9KhNo3iICdo"
      },
      "execution_count": null,
      "outputs": []
    },
    {
      "cell_type": "markdown",
      "source": [
        "Reemplazar Outliers"
      ],
      "metadata": {
        "id": "nlOtARtNZs_8"
      }
    },
    {
      "cell_type": "code",
      "source": [
        "#Método aplicando desviación estándar. Encuentro los valores extremos\n",
        "y=filtro1\n",
        "Limite_Superior= y.mean() + 3*y.std()\n",
        "Limite_Inferior= y.mean() - 3*y.std()\n",
        "print(\"Límite superior permitido\", Limite_Superior)\n",
        "print(\"Limite inferior permitido\", Limite_Inferior)\n",
        "#Utilizamos el método de desviación estándar para encontrar los valores extremos de la columna, para posteriormente identificarlos y limpiar los datos, \n",
        "#es decir sustituir estos valores atípicos o outliers. "
      ],
      "metadata": {
        "id": "ssRCsWeodPXS"
      },
      "execution_count": null,
      "outputs": []
    },
    {
      "cell_type": "code",
      "source": [
        "#Encontramos Outliers\n",
        "outliers= filtro1[(y>Limite_Superior)|(y<Limite_Inferior)]\n",
        "outliers"
      ],
      "metadata": {
        "id": "EbgXsvEkdX2o"
      },
      "execution_count": null,
      "outputs": []
    },
    {
      "cell_type": "code",
      "source": [
        "#Obtenemos datos limpios\n",
        "filtro1_clean= filtro1[(y<=Limite_Superior)&(y>=Limite_Inferior)]\n",
        "filtro1_clean"
      ],
      "metadata": {
        "id": "vsYG596rdgjU"
      },
      "execution_count": null,
      "outputs": []
    },
    {
      "cell_type": "code",
      "source": [
        "#Corroboramos valores nulos \n",
        "valores_nulos=filtro1_clean.isnull().sum()\n",
        "valores_nulos"
      ],
      "metadata": {
        "id": "MCSuYtn7Iewy"
      },
      "execution_count": null,
      "outputs": []
    },
    {
      "cell_type": "code",
      "source": [
        "#Reemplazamos valores atípicos (nulos) del dataframe con \"mean\"\n",
        "#Realizamos una copia del dataframe\n",
        "data_clean=filtro1_clean.copy()\n",
        "data_clean=filtro1_clean.fillna(round(filtro1_clean.mean(),1))\n",
        "data_clean\n",
        "#Realizamos la sustitución de valores nulos con mean que es la función con la que obtendremos \n",
        "#los promedios de cada columna y con ese valor se llenarán los espacios vacíos o nulos."
      ],
      "metadata": {
        "id": "rOWlMxXaI1AS"
      },
      "execution_count": null,
      "outputs": []
    },
    {
      "cell_type": "code",
      "source": [
        "#Corroboramos valores nulos \n",
        "valores_nulos=data_clean.isnull().sum()\n",
        "valores_nulos"
      ],
      "metadata": {
        "id": "2sOBd5jHJFLH"
      },
      "execution_count": null,
      "outputs": []
    },
    {
      "cell_type": "code",
      "source": [
        "Lastmile2_limpios = pd.concat([data_clean, filtro_cual], axis=1)\n",
        "Lastmile2_limpios"
      ],
      "metadata": {
        "id": "PtrBUXvRKHg-"
      },
      "execution_count": null,
      "outputs": []
    },
    {
      "cell_type": "code",
      "source": [
        "#Corroboramos valores nulos \n",
        "valores_nulos=Lastmile2_limpios.isnull().sum()\n",
        "valores_nulos"
      ],
      "metadata": {
        "id": "PoC4h8p8KTE3"
      },
      "execution_count": null,
      "outputs": []
    },
    {
      "cell_type": "code",
      "source": [
        "#Convertir DataFrame a CSV \n",
        "Lastmile2_limpios.to_csv(\"Last_mile2_sin_nulos.csv\")"
      ],
      "metadata": {
        "id": "fGqcOvd2vcL2"
      },
      "execution_count": 30,
      "outputs": []
    },
    {
      "cell_type": "code",
      "source": [
        "#Descargar archivo filtrado en csv \n",
        "from google.colab import files \n",
        "files.download(\"Last_mile2_sin_nulos.csv\")"
      ],
      "metadata": {
        "colab": {
          "base_uri": "https://localhost:8080/",
          "height": 17
        },
        "id": "o66ntgxiviV4",
        "outputId": "afa214ed-5208-44ce-f261-be30d49847f5"
      },
      "execution_count": 31,
      "outputs": [
        {
          "output_type": "display_data",
          "data": {
            "text/plain": [
              "<IPython.core.display.Javascript object>"
            ],
            "application/javascript": [
              "\n",
              "    async function download(id, filename, size) {\n",
              "      if (!google.colab.kernel.accessAllowed) {\n",
              "        return;\n",
              "      }\n",
              "      const div = document.createElement('div');\n",
              "      const label = document.createElement('label');\n",
              "      label.textContent = `Downloading \"${filename}\": `;\n",
              "      div.appendChild(label);\n",
              "      const progress = document.createElement('progress');\n",
              "      progress.max = size;\n",
              "      div.appendChild(progress);\n",
              "      document.body.appendChild(div);\n",
              "\n",
              "      const buffers = [];\n",
              "      let downloaded = 0;\n",
              "\n",
              "      const channel = await google.colab.kernel.comms.open(id);\n",
              "      // Send a message to notify the kernel that we're ready.\n",
              "      channel.send({})\n",
              "\n",
              "      for await (const message of channel.messages) {\n",
              "        // Send a message to notify the kernel that we're ready.\n",
              "        channel.send({})\n",
              "        if (message.buffers) {\n",
              "          for (const buffer of message.buffers) {\n",
              "            buffers.push(buffer);\n",
              "            downloaded += buffer.byteLength;\n",
              "            progress.value = downloaded;\n",
              "          }\n",
              "        }\n",
              "      }\n",
              "      const blob = new Blob(buffers, {type: 'application/binary'});\n",
              "      const a = document.createElement('a');\n",
              "      a.href = window.URL.createObjectURL(blob);\n",
              "      a.download = filename;\n",
              "      div.appendChild(a);\n",
              "      a.click();\n",
              "      div.remove();\n",
              "    }\n",
              "  "
            ]
          },
          "metadata": {}
        },
        {
          "output_type": "display_data",
          "data": {
            "text/plain": [
              "<IPython.core.display.Javascript object>"
            ],
            "application/javascript": [
              "download(\"download_fda8075f-efc1-45ef-9748-49742fb59b95\", \"Last_mile2_sin_nulos.csv\", 22175)"
            ]
          },
          "metadata": {}
        }
      ]
    }
  ]
}