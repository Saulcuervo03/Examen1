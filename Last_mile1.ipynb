{
  "nbformat": 4,
  "nbformat_minor": 0,
  "metadata": {
    "colab": {
      "provenance": [],
      "authorship_tag": "ABX9TyMD4L8eZ8zljqxf1LQbDWMP",
      "include_colab_link": true
    },
    "kernelspec": {
      "name": "python3",
      "display_name": "Python 3"
    },
    "language_info": {
      "name": "python"
    }
  },
  "cells": [
    {
      "cell_type": "markdown",
      "metadata": {
        "id": "view-in-github",
        "colab_type": "text"
      },
      "source": [
        "<a href=\"https://colab.research.google.com/github/Saulcuervo03/Examen1/blob/main/Last_mile1.ipynb\" target=\"_parent\"><img src=\"https://colab.research.google.com/assets/colab-badge.svg\" alt=\"Open In Colab\"/></a>"
      ]
    },
    {
      "cell_type": "markdown",
      "source": [
        "**Last_mile1**"
      ],
      "metadata": {
        "id": "1kq0DwatUAPF"
      }
    },
    {
      "cell_type": "markdown",
      "source": [
        "Por: Saúl Jesús Cuervo Méndez"
      ],
      "metadata": {
        "id": "nwPIKJNBUHJ9"
      }
    },
    {
      "cell_type": "markdown",
      "source": [
        "Sustitución de valores nulos"
      ],
      "metadata": {
        "id": "uKUdKmVKPIgp"
      }
    },
    {
      "cell_type": "code",
      "execution_count": 1,
      "metadata": {
        "id": "gd0BAkhIP0YB"
      },
      "outputs": [],
      "source": [
        "#Importamos librerias requeridas\n",
        "import pandas as pd \n",
        "import numpy as np \n",
        "import matplotlib.pyplot as  plt"
      ]
    },
    {
      "cell_type": "code",
      "source": [
        "#Cargar archivo csv desde seaborn\n",
        "from google.colab import files \n",
        "files.upload()"
      ],
      "metadata": {
        "id": "2Xqx-CtrQDJj"
      },
      "execution_count": null,
      "outputs": []
    },
    {
      "cell_type": "code",
      "source": [
        "#Carga desde un archivo .csv sin indice \n",
        "data = pd.read_csv('lastmile_delivery_operations_mit_lift_lab.csv')"
      ],
      "metadata": {
        "id": "baAiiTgsQF0J"
      },
      "execution_count": 3,
      "outputs": []
    },
    {
      "cell_type": "code",
      "source": [
        "#Imprimo los primeros 5 registros del DataFrame\n",
        "data.head()"
      ],
      "metadata": {
        "id": "CbRzBp4gQT2M"
      },
      "execution_count": null,
      "outputs": []
    },
    {
      "cell_type": "code",
      "source": [
        "#Corroboramos valores nulos \n",
        "valores_nulos=data.isnull().sum()\n",
        "valores_nulos"
      ],
      "metadata": {
        "id": "yoX5ExsiQmYT"
      },
      "execution_count": null,
      "outputs": []
    },
    {
      "cell_type": "code",
      "source": [
        "#Sustituir valores nulos por un string en concreto\n",
        "data[\"_title\"]= data[\"_title\"].fillna(\"No_title\")\n",
        "#Argumentacion: Se utilizó el método de sustituir los valores nulos por un valor en concreto. \n",
        "#En este caso los datos son los títulos del registro. Los valores nulos son string y por eso se reemplazaron estos valores con la frase \"No_title\" para no \n",
        "#perder la información de las demás filas."
      ],
      "metadata": {
        "id": "mX5Xc05eT5B-"
      },
      "execution_count": null,
      "outputs": []
    },
    {
      "cell_type": "code",
      "source": [
        "#Corroboramos valores nulos \n",
        "valores_nulos=data.isnull().sum()\n",
        "valores_nulos"
      ],
      "metadata": {
        "id": "QRbUooK6UF3C"
      },
      "execution_count": null,
      "outputs": []
    },
    {
      "cell_type": "code",
      "source": [
        "#Sustituir valores nulos por un string en concreto\n",
        "data[\"plates\"]= data[\"plates\"].fillna(\"No_car_plate\")\n",
        "#Argumentacion: Se utilizó el método de sustituir los valores nulos por un valor en concreto. \n",
        "#En este caso los datos son las placas de los vehículos del registro. Los valores nulos son string y por eso se reemplazaron estos valores con la frase \"No_car_plate\" para no \n",
        "#perder la información de las demás filas."
      ],
      "metadata": {
        "id": "KRVDC9lVJp93"
      },
      "execution_count": null,
      "outputs": []
    },
    {
      "cell_type": "code",
      "source": [
        "#Corroboramos valores nulos \n",
        "valores_nulos=data.isnull().sum()\n",
        "valores_nulos"
      ],
      "metadata": {
        "id": "YUKa3P6KKOWo"
      },
      "execution_count": null,
      "outputs": []
    },
    {
      "cell_type": "code",
      "source": [
        "#Sustituir valores nulos por un string en concreto\n",
        "data[\"company_if_visible\"]= data[\"company_if_visible\"].fillna(\"No_visible_company\")\n",
        "#Argumentacion: Se utilizó el método de sustituir los valores nulos por un valor en concreto. \n",
        "#En este caso los datos son los nombres de las compañías de los autos del registro. Los valores nulos son string y por eso se reemplazaron \n",
        "#estos valores con la frase \"No_visible_company\" para no perder la información de las demás filas."
      ],
      "metadata": {
        "id": "fYp8qvYpKXPn"
      },
      "execution_count": 10,
      "outputs": []
    },
    {
      "cell_type": "code",
      "source": [
        "#Corroboramos valores nulos \n",
        "valores_nulos=data.isnull().sum()\n",
        "valores_nulos"
      ],
      "metadata": {
        "id": "lrUgBmkHLuys"
      },
      "execution_count": null,
      "outputs": []
    },
    {
      "cell_type": "code",
      "source": [
        "#Eliminamos columnas innecesarias \n",
        "data2= data.drop(['describe_the_accident'], axis=1)\n",
        "data2\n",
        "#Se eliminó la columna \"describe_the_accident\" del dataframe porque ninguna fila tiene datos; todos son valores nulos por lo que es \n",
        "#mejor quitar la columna del conjunto de datos ya que es innecesaria."
      ],
      "metadata": {
        "id": "GAJiZZQWNunu"
      },
      "execution_count": null,
      "outputs": []
    },
    {
      "cell_type": "code",
      "source": [
        "#Corroboramos valores nulos \n",
        "valores_nulos=data2.isnull().sum()\n",
        "valores_nulos"
      ],
      "metadata": {
        "id": "wdoQA2v4N3gJ"
      },
      "execution_count": null,
      "outputs": []
    },
    {
      "cell_type": "code",
      "source": [
        "#Eliminamos columnas innecesarias \n",
        "data3= data2.drop(['maximum_number_of_vehicles_in_the_traffic_jam'], axis=1)\n",
        "data3\n",
        "#Se eliminó la columna \"maximum_number_of_vehicles_in_the_traffic_jam\" del dataframe porque ninguna fila tiene un dato; todos son valores nulos por lo que es \n",
        "#mejor quitar la columna del conjunto de datos."
      ],
      "metadata": {
        "id": "iEL5X0N-OFpi"
      },
      "execution_count": null,
      "outputs": []
    },
    {
      "cell_type": "code",
      "source": [
        "#Corroboramos valores nulos \n",
        "valores_nulos=data3.isnull().sum().sum()\n",
        "valores_nulos"
      ],
      "metadata": {
        "id": "LR2eSXKzOO_X"
      },
      "execution_count": null,
      "outputs": []
    },
    {
      "cell_type": "code",
      "source": [
        "data3.info()"
      ],
      "metadata": {
        "colab": {
          "base_uri": "https://localhost:8080/"
        },
        "id": "ILpEaNXBAglr",
        "outputId": "6ad8996f-766d-4c8d-deec-2797b21a60e4"
      },
      "execution_count": 17,
      "outputs": [
        {
          "output_type": "stream",
          "name": "stdout",
          "text": [
            "<class 'pandas.core.frame.DataFrame'>\n",
            "RangeIndex: 182 entries, 0 to 181\n",
            "Data columns (total 27 columns):\n",
            " #   Column                                 Non-Null Count  Dtype  \n",
            "---  ------                                 --------------  -----  \n",
            " 0   _record_id                             182 non-null    object \n",
            " 1   _title                                 182 non-null    object \n",
            " 2   _server_updated_at                     182 non-null    object \n",
            " 3   _updated_by                            182 non-null    object \n",
            " 4   _geometry                              182 non-null    object \n",
            " 5   _latitude                              182 non-null    float64\n",
            " 6   _longitude                             182 non-null    float64\n",
            " 7   arrival_of_the_freight_vehicle         182 non-null    object \n",
            " 8   plates                                 182 non-null    object \n",
            " 9   company_if_visible                     182 non-null    object \n",
            " 10  visit_purpose                          182 non-null    object \n",
            " 11  type_of_vehicle                        182 non-null    object \n",
            " 12  number_of_operators                    182 non-null    int64  \n",
            " 13  refrigerated_truck                     182 non-null    object \n",
            " 14  type_of_cargo                          182 non-null    object \n",
            " 15  picture_of_the_parked_freight_vehicle  182 non-null    object \n",
            " 16  departure_of_the_freight_vehicle       182 non-null    object \n",
            " 17  where_was_the_vehicle_parked           182 non-null    object \n",
            " 18  while_parked_was_the_engine_running    182 non-null    object \n",
            " 19  used_traffic_cone                      182 non-null    object \n",
            " 20  vehicles_unloading_door                182 non-null    object \n",
            " 21  number_of_available_trolleys           182 non-null    int64  \n",
            " 22  serving_customer                       35 non-null     float64\n",
            " 23  garage_blocking                        182 non-null    object \n",
            " 24  accident                               182 non-null    object \n",
            " 25  noise                                  182 non-null    object \n",
            " 26  traffic_congestion                     182 non-null    object \n",
            "dtypes: float64(3), int64(2), object(22)\n",
            "memory usage: 38.5+ KB\n"
          ]
        }
      ]
    },
    {
      "cell_type": "code",
      "source": [
        "#Filtro por columnas\n",
        "filtro_cual=data3.iloc[ : , [0,1,2,3,4,5,6,7,8,9,10,11,13,14,15,16,17,18,19,20,23,24,25,26]] \n",
        "filtro_cual"
      ],
      "metadata": {
        "id": "4NWrIxr4B43w"
      },
      "execution_count": null,
      "outputs": []
    },
    {
      "cell_type": "code",
      "source": [
        "#Filtro por columnas\n",
        "filtro1=data3.iloc[ : , [12,21,22]]\n",
        "filtro1"
      ],
      "metadata": {
        "id": "RePBmMMsB8Zx"
      },
      "execution_count": null,
      "outputs": []
    },
    {
      "cell_type": "code",
      "source": [
        "#Corroboramos valores nulos \n",
        "valores_nulos=filtro_cual.isnull().sum()\n",
        "valores_nulos"
      ],
      "metadata": {
        "id": "DWcMmy1xEBvk"
      },
      "execution_count": null,
      "outputs": []
    },
    {
      "cell_type": "code",
      "source": [
        "#Corroboramos valores nulos \n",
        "valores_nulos=filtro1.isnull().sum()\n",
        "valores_nulos"
      ],
      "metadata": {
        "id": "kJ9OB7lRCn41"
      },
      "execution_count": null,
      "outputs": []
    },
    {
      "cell_type": "markdown",
      "source": [
        "Reemplazar Outliers"
      ],
      "metadata": {
        "id": "2ZxoXTz5PLzS"
      }
    },
    {
      "cell_type": "code",
      "source": [
        "#Método aplicando Cuartiles. Encuentro cuartiles 0.25 y 0.75\n",
        "y=filtro1\n",
        "percentile25=y.quantile(0.25) #Q1\n",
        "percentile75=y.quantile(0.75) #Q2\n",
        "iqr= percentile75 - percentile25\n",
        "Limite_Superior_iqr= percentile75 + 1.5*iqr\n",
        "Limite_Inferior_iqr= percentile25 - 1.5*iqr\n",
        "print(\"Limite superior permitido\", Limite_Superior_iqr)\n",
        "print(\"Limite inferior permitido\", Limite_Inferior_iqr)\n",
        "#Utilizamos el método de Cuartiles para encontrar los cuartiles 0.25 y 0.75 de la columna, para posteriormente identificarlos y limpiar los datos, \n",
        "#es decir sustituir estos valores atípicos o outliers. "
      ],
      "metadata": {
        "id": "p6R703GDSieU",
        "colab": {
          "base_uri": "https://localhost:8080/"
        },
        "outputId": "9ec6eeb2-601a-440c-b3e4-ad4190112f1a"
      },
      "execution_count": 21,
      "outputs": [
        {
          "output_type": "stream",
          "name": "stdout",
          "text": [
            "Limite superior permitido number_of_operators             3.5\n",
            "number_of_available_trolleys    2.5\n",
            "serving_customer                1.0\n",
            "dtype: float64\n",
            "Limite inferior permitido number_of_operators            -0.5\n",
            "number_of_available_trolleys   -1.5\n",
            "serving_customer                1.0\n",
            "dtype: float64\n"
          ]
        }
      ]
    },
    {
      "cell_type": "code",
      "source": [
        "#Encontramos Outliers\n",
        "outliers_iqr= filtro1[(y>Limite_Superior_iqr)|(y<Limite_Inferior_iqr)]\n",
        "outliers_iqr"
      ],
      "metadata": {
        "id": "m0W7vObZSxXp"
      },
      "execution_count": null,
      "outputs": []
    },
    {
      "cell_type": "code",
      "source": [
        "#Obtenemos datos limpios\n",
        "data_clean_iqr= filtro1[(y<=Limite_Superior_iqr)&(y>=Limite_Inferior_iqr)]\n",
        "data_clean_iqr"
      ],
      "metadata": {
        "id": "5e-leoaqS3r7"
      },
      "execution_count": null,
      "outputs": []
    },
    {
      "cell_type": "code",
      "source": [
        "#Corroboramos valores nulos \n",
        "valores_nulos=data_clean_iqr.isnull().sum()\n",
        "valores_nulos"
      ],
      "metadata": {
        "id": "ft4tp3_ODOYd"
      },
      "execution_count": null,
      "outputs": []
    },
    {
      "cell_type": "code",
      "source": [
        "#Reemplazamos valores atípicos (nulos) del dataframe con \"median\"\n",
        "#Realizamos una copia del dataframe\n",
        "data_clean=data_clean_iqr.copy()\n",
        "data_clean=data_clean_iqr.fillna(round(data_clean_iqr.median(),1))\n",
        "data_clean\n",
        "#Realizamos la sustitución de valores nulos con median que es la función con la que obtendremos \n",
        "#la mediana de cada columna y con ese valor se llenarán los espacios vacíos o nulos."
      ],
      "metadata": {
        "id": "1l2XhTkdDbbf"
      },
      "execution_count": null,
      "outputs": []
    },
    {
      "cell_type": "code",
      "source": [
        "#Corroboramos valores nulos \n",
        "valores_nulos=data_clean.isnull().sum()\n",
        "valores_nulos"
      ],
      "metadata": {
        "id": "bhLG2ncvD4Nx"
      },
      "execution_count": null,
      "outputs": []
    },
    {
      "cell_type": "code",
      "source": [
        "Lastmile_limpio = pd.concat([data_clean, filtro_cual], axis=1)\n",
        "Lastmile_limpio"
      ],
      "metadata": {
        "id": "cAHr1Be9ETxH"
      },
      "execution_count": null,
      "outputs": []
    },
    {
      "cell_type": "code",
      "source": [
        "#Corroboramos valores nulos \n",
        "valores_nulos=Lastmile_limpio.isnull().sum()\n",
        "valores_nulos"
      ],
      "metadata": {
        "id": "kIKb-QHpEorZ"
      },
      "execution_count": null,
      "outputs": []
    },
    {
      "cell_type": "code",
      "source": [
        "#Convertir DataFrame a CSV \n",
        "Lastmile_limpio.to_csv(\"Lastmile_limpio.csv\")"
      ],
      "metadata": {
        "id": "SXK1JDbvTuOh"
      },
      "execution_count": 34,
      "outputs": []
    },
    {
      "cell_type": "code",
      "source": [
        "#Descargar archivo filtrado en csv \n",
        "from google.colab import files \n",
        "files.download(\"Lastmile_limpio.csv\")"
      ],
      "metadata": {
        "colab": {
          "base_uri": "https://localhost:8080/",
          "height": 17
        },
        "id": "V9GFGfgFT4FX",
        "outputId": "7e3883cd-63e7-4ed5-b517-e02683a7ba3c"
      },
      "execution_count": 35,
      "outputs": [
        {
          "output_type": "display_data",
          "data": {
            "text/plain": [
              "<IPython.core.display.Javascript object>"
            ],
            "application/javascript": [
              "\n",
              "    async function download(id, filename, size) {\n",
              "      if (!google.colab.kernel.accessAllowed) {\n",
              "        return;\n",
              "      }\n",
              "      const div = document.createElement('div');\n",
              "      const label = document.createElement('label');\n",
              "      label.textContent = `Downloading \"${filename}\": `;\n",
              "      div.appendChild(label);\n",
              "      const progress = document.createElement('progress');\n",
              "      progress.max = size;\n",
              "      div.appendChild(progress);\n",
              "      document.body.appendChild(div);\n",
              "\n",
              "      const buffers = [];\n",
              "      let downloaded = 0;\n",
              "\n",
              "      const channel = await google.colab.kernel.comms.open(id);\n",
              "      // Send a message to notify the kernel that we're ready.\n",
              "      channel.send({})\n",
              "\n",
              "      for await (const message of channel.messages) {\n",
              "        // Send a message to notify the kernel that we're ready.\n",
              "        channel.send({})\n",
              "        if (message.buffers) {\n",
              "          for (const buffer of message.buffers) {\n",
              "            buffers.push(buffer);\n",
              "            downloaded += buffer.byteLength;\n",
              "            progress.value = downloaded;\n",
              "          }\n",
              "        }\n",
              "      }\n",
              "      const blob = new Blob(buffers, {type: 'application/binary'});\n",
              "      const a = document.createElement('a');\n",
              "      a.href = window.URL.createObjectURL(blob);\n",
              "      a.download = filename;\n",
              "      div.appendChild(a);\n",
              "      a.click();\n",
              "      div.remove();\n",
              "    }\n",
              "  "
            ]
          },
          "metadata": {}
        },
        {
          "output_type": "display_data",
          "data": {
            "text/plain": [
              "<IPython.core.display.Javascript object>"
            ],
            "application/javascript": [
              "download(\"download_064c5255-fb6e-4eb1-9f8d-46c08df4a800\", \"Lastmile_limpio.csv\", 86881)"
            ]
          },
          "metadata": {}
        }
      ]
    }
  ]
}