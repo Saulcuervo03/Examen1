{
  "nbformat": 4,
  "nbformat_minor": 0,
  "metadata": {
    "colab": {
      "provenance": [],
      "authorship_tag": "ABX9TyNEwuSqmvqWlrFYI5cCEPv0",
      "include_colab_link": true
    },
    "kernelspec": {
      "name": "python3",
      "display_name": "Python 3"
    },
    "language_info": {
      "name": "python"
    }
  },
  "cells": [
    {
      "cell_type": "markdown",
      "metadata": {
        "id": "view-in-github",
        "colab_type": "text"
      },
      "source": [
        "<a href=\"https://colab.research.google.com/github/Saulcuervo03/Examen1/blob/main/Consumer_lab.ipynb\" target=\"_parent\"><img src=\"https://colab.research.google.com/assets/colab-badge.svg\" alt=\"Open In Colab\"/></a>"
      ]
    },
    {
      "cell_type": "markdown",
      "source": [
        "**Consumer_lab**"
      ],
      "metadata": {
        "id": "Owjbh-rxWp_8"
      }
    },
    {
      "cell_type": "markdown",
      "source": [
        "Por: Saúl Jesús Cuervo Méndez"
      ],
      "metadata": {
        "id": "uVU0qNHjWurq"
      }
    },
    {
      "cell_type": "markdown",
      "source": [
        "Sustitución de valores nulos"
      ],
      "metadata": {
        "id": "9shmlM1dDpoT"
      }
    },
    {
      "cell_type": "code",
      "execution_count": 1,
      "metadata": {
        "id": "U_10VUO930uG"
      },
      "outputs": [],
      "source": [
        "#Importamos librerias requeridas\n",
        "import pandas as pd \n",
        "import numpy as np \n",
        "import matplotlib.pyplot as  plt"
      ]
    },
    {
      "cell_type": "code",
      "source": [
        "#Cargar archivo csv desde seaborn\n",
        "from google.colab import files \n",
        "files.upload()"
      ],
      "metadata": {
        "id": "fNMPTerq4G0v"
      },
      "execution_count": null,
      "outputs": []
    },
    {
      "cell_type": "code",
      "source": [
        "#Carga desde un archivo .csv sin indice \n",
        "data = pd.read_excel('consumer_mit_lift_lab.xlsx')\n"
      ],
      "metadata": {
        "id": "O6NhVDjC4JRZ"
      },
      "execution_count": 3,
      "outputs": []
    },
    {
      "cell_type": "code",
      "source": [
        "#Imprimo los primeros 5 registros del DataFrame\n",
        "data.head()"
      ],
      "metadata": {
        "id": "owlg1UBH4lDF"
      },
      "execution_count": null,
      "outputs": []
    },
    {
      "cell_type": "code",
      "source": [
        "#Corroboramos valores nulos \n",
        "valores_nulos=data.isnull().sum()\n",
        "valores_nulos"
      ],
      "metadata": {
        "id": "oDtvsS8c4rDp"
      },
      "execution_count": null,
      "outputs": []
    },
    {
      "cell_type": "code",
      "source": [
        "#Sustituir valores nulos por un string en concreto\n",
        "data[\"300_did_not_find\"]= data[\"300_did_not_find\"].fillna(\"x Producto\")\n",
        "data \n",
        "#Argumentacion: Se utilizó el método de sustituir los valores nulos por un valor en concreto. \n",
        "#En este caso como la mayoría de los datos son nulos, string y se trata de productos de las PYMES, se reemplazaron estos valores con la frase \"x Producto\" para no \n",
        "#perder la información de las demás filas."
      ],
      "metadata": {
        "id": "0z-jTbYQ6V2y"
      },
      "execution_count": null,
      "outputs": []
    },
    {
      "cell_type": "code",
      "source": [
        "#Corroboramos valores nulos \n",
        "valores_nulos=data.isnull().sum()\n",
        "valores_nulos"
      ],
      "metadata": {
        "id": "UiSq6EP76s5l"
      },
      "execution_count": null,
      "outputs": []
    },
    {
      "cell_type": "code",
      "source": [
        "#Sustituir valores nulos por un string en concreto\n",
        "data[\"284_additional_products_store\"]= data[\"284_additional_products_store\"].fillna(\"x Producto adicional\")\n",
        "data \n",
        "#Argumentacion: Se utilizó el método de sustituir los valores nulos por un valor en concreto. \n",
        "#En este caso como la mayoría de los datos son nulos, string y se trata de productos adicionales de las PYMES, se reemplazaron estos valores con la \n",
        "#frase \"x Producto adicional\" para no perder la información de las demás filas."
      ],
      "metadata": {
        "id": "S_twRIyt7ztl"
      },
      "execution_count": null,
      "outputs": []
    },
    {
      "cell_type": "code",
      "source": [
        "#Corroboramos valores nulos \n",
        "valores_nulos=data.isnull().sum()\n",
        "valores_nulos"
      ],
      "metadata": {
        "id": "wsADg7wX8czK"
      },
      "execution_count": null,
      "outputs": []
    },
    {
      "cell_type": "code",
      "source": [
        "#Sustituir valores nulos por valores no nulos hacia adelante \"forward fill\" (\"ffill\")\n",
        "#Filtro por columnas\n",
        "data[\"305_electricity_bill_store\"] =data[\"305_electricity_bill_store\"].fillna(method=\"ffill\")\n",
        "#Argumentación: Se utilizó el filtro de forward fill para rellenar los valores nulos con los string \"Yes\" o \"No\" que están adelante del valor nulo \n",
        "#para que los datos de la columna puedan variar entre \"Yes\" y \"No\""
      ],
      "metadata": {
        "id": "T4dsx5nP9I7b"
      },
      "execution_count": 10,
      "outputs": []
    },
    {
      "cell_type": "code",
      "source": [
        "#Corroboramos valores nulos \n",
        "valores_nulos=data.isnull().sum()\n",
        "valores_nulos"
      ],
      "metadata": {
        "id": "gKsubYKd9V2V"
      },
      "execution_count": null,
      "outputs": []
    },
    {
      "cell_type": "code",
      "source": [
        "#Sustituir valores nulos por valores no nulos hacia atrás \"backward fill\" (\"bfill\")\n",
        "#Filtro por columnas\n",
        "data[\"306_water_bill_store\"] =data[\"306_water_bill_store\"].fillna(method=\"bfill\")\n",
        "#Argumentación: Se utilizó el filtro de backward fill para rellenar los valores nulos con los string \"Yes\" o \"No\" que están detrás del valor \n",
        "#nulo para que los datos de la columna puedan variar entre \"Yes\" y \"No\""
      ],
      "metadata": {
        "id": "v-_owh4q-Opx"
      },
      "execution_count": 12,
      "outputs": []
    },
    {
      "cell_type": "code",
      "source": [
        "#Corroboramos valores nulos \n",
        "valores_nulos=data.isnull().sum()\n",
        "valores_nulos"
      ],
      "metadata": {
        "id": "RVigNop3-j8p"
      },
      "execution_count": null,
      "outputs": []
    },
    {
      "cell_type": "code",
      "source": [
        "#Sustituir valores nulos por valores no nulos hacia adelante \"forward fill\" (\"ffill\")\n",
        "#Filtro por columnas\n",
        "data[\"307_gas_bill_store\"] =data[\"307_gas_bill_store\"].fillna(method=\"ffill\")\n",
        "#Argumentación: Se utilizó el filtro de forward fill para rellenar los valores nulos con los string \"Yes\" o \"No\" que están adelante del valor nulo \n",
        "#para que los datos de la columna puedan variar entre \"Yes\" y \"No\""
      ],
      "metadata": {
        "id": "G_hequuX-5af"
      },
      "execution_count": 14,
      "outputs": []
    },
    {
      "cell_type": "code",
      "source": [
        "#Corroboramos valores nulos \n",
        "valores_nulos=data.isnull().sum()\n",
        "valores_nulos"
      ],
      "metadata": {
        "id": "ms5CZ4o3_7g7"
      },
      "execution_count": null,
      "outputs": []
    },
    {
      "cell_type": "code",
      "source": [
        "#Sustituir valores nulos por valores no nulos hacia atrás \"backward fill\" (\"bfill\")\n",
        "#Filtro por columnas\n",
        "data[\"308_topups_in_store\"] =data[\"308_topups_in_store\"].fillna(method=\"bfill\")\n",
        "#Argumentación: Se utilizó el filtro de backward fill para rellenar los valores nulos con los string \"Yes\" o \"No\" que están detrás del valor \n",
        "#nulo para que los datos de la columna puedan variar entre \"Yes\" y \"No\"."
      ],
      "metadata": {
        "id": "9VvDU2U5AHC-"
      },
      "execution_count": 16,
      "outputs": []
    },
    {
      "cell_type": "code",
      "source": [
        "#Corroboramos valores nulos \n",
        "valores_nulos=data.isnull().sum()\n",
        "valores_nulos"
      ],
      "metadata": {
        "id": "CAhhewtdATQa"
      },
      "execution_count": null,
      "outputs": []
    },
    {
      "cell_type": "code",
      "source": [
        "#Sustituir valores nulos por un string en concreto\n",
        "data[\"309_wiretransfers_in_store\"]= data[\"309_wiretransfers_in_store\"].fillna(\"yes\")\n",
        "#Argumentacion: Se utilizó el método de sustituir los valores nulos por un valor en concreto. \n",
        "#En este caso como sólo se tienen 2 valores nulos, se reemplazaron estos valores con la palabra \"yes\" para que los valores sean distintos de \"no\"."
      ],
      "metadata": {
        "id": "ZwUbzTEZAcPr"
      },
      "execution_count": 18,
      "outputs": []
    },
    {
      "cell_type": "code",
      "source": [
        "#Corroboramos valores nulos \n",
        "valores_nulos=data.isnull().sum()\n",
        "valores_nulos"
      ],
      "metadata": {
        "id": "5BvkM9xWB7Wl"
      },
      "execution_count": null,
      "outputs": []
    },
    {
      "cell_type": "code",
      "source": [
        "#Sustituir valores nulos por un string en concreto\n",
        "data[\"304_additional_services_store\"]= data[\"304_additional_services_store\"].fillna(\"x Servicio adicional\")\n",
        "#Argumentacion: Se utilizó el método de sustituir los valores nulos por un valor en concreto. \n",
        "#En este caso como la mayoría de los datos son nulos, string y se trata de servicios adicionales que ofrecen las PYMES, se reemplazaron estos valores con la \n",
        "#frase \"x Servicio adicional\" para no perder la información de las demás filas."
      ],
      "metadata": {
        "id": "cn8fhFV-CLcU"
      },
      "execution_count": 20,
      "outputs": []
    },
    {
      "cell_type": "code",
      "source": [
        "#Corroboramos valores nulos \n",
        "valores_nulos=data.isnull().sum()\n",
        "valores_nulos"
      ],
      "metadata": {
        "id": "n9WO865lCX2y"
      },
      "execution_count": null,
      "outputs": []
    },
    {
      "cell_type": "code",
      "source": [
        "#Sustituir valores nulos por un string en concreto\n",
        "data[\"storefront_picture_just_once_if_possible\"]= data[\"storefront_picture_just_once_if_possible\"].fillna(\"No Photo available\")\n",
        "#Argumentacion: Se utilizó el método de sustituir los valores nulos por un valor en concreto. \n",
        "#En este caso como los valores nulos son espacios en blanco donde no hay una foto que se subió en la plataforma, se pone la frase \"No Photo available\" \n",
        "#para sustituir el valor nulo por ese string."
      ],
      "metadata": {
        "id": "fIPD8Rn8CupI"
      },
      "execution_count": 22,
      "outputs": []
    },
    {
      "cell_type": "code",
      "source": [
        "#Corroboramos valores nulos \n",
        "valores_nulos=data.isnull().sum()\n",
        "valores_nulos"
      ],
      "metadata": {
        "id": "lI310J0qDVxh"
      },
      "execution_count": null,
      "outputs": []
    },
    {
      "cell_type": "code",
      "source": [
        "data.info()"
      ],
      "metadata": {
        "id": "gCynKnSuFdAU"
      },
      "execution_count": null,
      "outputs": []
    },
    {
      "cell_type": "code",
      "source": [
        "#Filtro por columnas\n",
        "filtro_cual=data.iloc[ : , [0,1,2,3,4,5,6,7,8,9,10,11,13,14,15,16,17,18,19,20,21,22,23,24,25,32,33,34,35]]\n",
        "filtro_cual"
      ],
      "metadata": {
        "id": "Bq4YalAgPnhs"
      },
      "execution_count": null,
      "outputs": []
    },
    {
      "cell_type": "code",
      "source": [
        "#Filtro por columnas\n",
        "filtro1=data.iloc[ : , [12, 26, 27, 28, 29, 30, 31]] \n",
        "filtro1"
      ],
      "metadata": {
        "id": "zk7S_b9gF-4G"
      },
      "execution_count": null,
      "outputs": []
    },
    {
      "cell_type": "code",
      "source": [
        "#Corroboramos valores nulos \n",
        "valores_nulos=filtro1.isnull().sum()\n",
        "valores_nulos"
      ],
      "metadata": {
        "id": "8afmlh7WHI89"
      },
      "execution_count": null,
      "outputs": []
    },
    {
      "cell_type": "markdown",
      "source": [
        "Reemplazar Outliers"
      ],
      "metadata": {
        "id": "aF1gasPCDaz5"
      }
    },
    {
      "cell_type": "markdown",
      "source": [
        "Método de Desviación estándar"
      ],
      "metadata": {
        "id": "kMxN2cVGO8fh"
      }
    },
    {
      "cell_type": "code",
      "source": [
        "#Método aplicando desviación estándar. Encuentro los valores extremos\n",
        "y=filtro1\n",
        "Limite_Superior= y.mean() + 3*y.std()\n",
        "Limite_Inferior= y.mean() - 3*y.std()\n",
        "print(\"Límite superior permitido\", Limite_Superior)\n",
        "print(\"Limite inferior permitido\", Limite_Inferior)\n",
        "#Utilizamos el método de desviación estándar para encontrar los valores extremos de la columna, para posteriormente identificarlos y limpiar los datos, \n",
        "#es decir sustituir estos valores atípicos o outliers. "
      ],
      "metadata": {
        "id": "SI2_ZUtgG_W5"
      },
      "execution_count": null,
      "outputs": []
    },
    {
      "cell_type": "code",
      "source": [
        "#Encontramos Outliers\n",
        "outliers= filtro1[(y>Limite_Superior)|(y<Limite_Inferior)]\n",
        "outliers"
      ],
      "metadata": {
        "id": "Jd7GGJRbJypW"
      },
      "execution_count": null,
      "outputs": []
    },
    {
      "cell_type": "code",
      "source": [
        "#Obtenemos datos limpios\n",
        "filtro1_clean= filtro1[(y<=Limite_Superior)&(y>=Limite_Inferior)]\n",
        "filtro1_clean"
      ],
      "metadata": {
        "id": "REv3UYtRKTEp"
      },
      "execution_count": null,
      "outputs": []
    },
    {
      "cell_type": "code",
      "source": [
        "#Corroboramos valores nulos \n",
        "valores_nulos=filtro1_clean.isnull().sum()\n",
        "valores_nulos"
      ],
      "metadata": {
        "colab": {
          "base_uri": "https://localhost:8080/"
        },
        "id": "YcoGKYoGX-hD",
        "outputId": "13a291b1-ff26-4f76-e56c-8ddc8a4d56cc"
      },
      "execution_count": 32,
      "outputs": [
        {
          "output_type": "execute_result",
          "data": {
            "text/plain": [
              "238_frequency_buying_store             2\n",
              "81_number_online_purchases_month       2\n",
              "288_number_app_purchases_month         1\n",
              "289_number_whatsapp_purchases_month    1\n",
              "83_willingness_ultrafast_delivery      2\n",
              "84_willingness_sameday_delivery        2\n",
              "241_age_of_the_interviewee             1\n",
              "dtype: int64"
            ]
          },
          "metadata": {},
          "execution_count": 32
        }
      ]
    },
    {
      "cell_type": "code",
      "source": [
        "#Reemplazamos valores atípicos (nulos) del dataframe con \"mean\"\n",
        "#Realizamos una copia del dataframe\n",
        "data_clean=filtro1_clean.copy()\n",
        "data_clean=filtro1_clean.fillna(round(filtro1_clean.mean(),1))\n",
        "data_clean\n",
        "#Realizamos la sustitución de valores nulos con mean que es la función con la que obtendremos \n",
        "#los promedios de cada columna y con ese valor se llenarán los espacios vacíos o nulos."
      ],
      "metadata": {
        "id": "YCNVNhqyaSV6"
      },
      "execution_count": null,
      "outputs": []
    },
    {
      "cell_type": "markdown",
      "source": [
        "Descargar DataFrame"
      ],
      "metadata": {
        "id": "kMzD-YbZPUrw"
      }
    },
    {
      "cell_type": "code",
      "source": [
        "Consumer_limpios = pd.concat([data_clean, filtro_cual], axis=1)\n",
        "Consumer_limpios"
      ],
      "metadata": {
        "id": "3h7FnA2GRhip"
      },
      "execution_count": null,
      "outputs": []
    },
    {
      "cell_type": "code",
      "source": [
        "#Convertir DataFrame a CSV \n",
        "Consumer_limpios.to_csv(\"Consumer_limpios.csv\")"
      ],
      "metadata": {
        "id": "8UZaleseORjE"
      },
      "execution_count": 35,
      "outputs": []
    },
    {
      "cell_type": "code",
      "source": [
        "#Descargar archivo filtrado en csv \n",
        "from google.colab import files \n",
        "files.download(\"Consumer_limpios.csv\")"
      ],
      "metadata": {
        "colab": {
          "base_uri": "https://localhost:8080/",
          "height": 17
        },
        "id": "0NQYyQrLOZ2Z",
        "outputId": "4d7eb1d2-c501-4b6a-8f60-8ddcd865c113"
      },
      "execution_count": 36,
      "outputs": [
        {
          "output_type": "display_data",
          "data": {
            "text/plain": [
              "<IPython.core.display.Javascript object>"
            ],
            "application/javascript": [
              "\n",
              "    async function download(id, filename, size) {\n",
              "      if (!google.colab.kernel.accessAllowed) {\n",
              "        return;\n",
              "      }\n",
              "      const div = document.createElement('div');\n",
              "      const label = document.createElement('label');\n",
              "      label.textContent = `Downloading \"${filename}\": `;\n",
              "      div.appendChild(label);\n",
              "      const progress = document.createElement('progress');\n",
              "      progress.max = size;\n",
              "      div.appendChild(progress);\n",
              "      document.body.appendChild(div);\n",
              "\n",
              "      const buffers = [];\n",
              "      let downloaded = 0;\n",
              "\n",
              "      const channel = await google.colab.kernel.comms.open(id);\n",
              "      // Send a message to notify the kernel that we're ready.\n",
              "      channel.send({})\n",
              "\n",
              "      for await (const message of channel.messages) {\n",
              "        // Send a message to notify the kernel that we're ready.\n",
              "        channel.send({})\n",
              "        if (message.buffers) {\n",
              "          for (const buffer of message.buffers) {\n",
              "            buffers.push(buffer);\n",
              "            downloaded += buffer.byteLength;\n",
              "            progress.value = downloaded;\n",
              "          }\n",
              "        }\n",
              "      }\n",
              "      const blob = new Blob(buffers, {type: 'application/binary'});\n",
              "      const a = document.createElement('a');\n",
              "      a.href = window.URL.createObjectURL(blob);\n",
              "      a.download = filename;\n",
              "      div.appendChild(a);\n",
              "      a.click();\n",
              "      div.remove();\n",
              "    }\n",
              "  "
            ]
          },
          "metadata": {}
        },
        {
          "output_type": "display_data",
          "data": {
            "text/plain": [
              "<IPython.core.display.Javascript object>"
            ],
            "application/javascript": [
              "download(\"download_2d04c0a6-2865-49d4-a0e6-5cc6f3049156\", \"Consumer_limpios.csv\", 57365)"
            ]
          },
          "metadata": {}
        }
      ]
    }
  ]
}