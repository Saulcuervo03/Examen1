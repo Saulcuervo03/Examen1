{
  "nbformat": 4,
  "nbformat_minor": 0,
  "metadata": {
    "colab": {
      "provenance": [],
      "authorship_tag": "ABX9TyNXWl33o07mbcaQreaA4UP1",
      "include_colab_link": true
    },
    "kernelspec": {
      "name": "python3",
      "display_name": "Python 3"
    },
    "language_info": {
      "name": "python"
    }
  },
  "cells": [
    {
      "cell_type": "markdown",
      "metadata": {
        "id": "view-in-github",
        "colab_type": "text"
      },
      "source": [
        "<a href=\"https://colab.research.google.com/github/Saulcuervo03/Examen1/blob/main/Micro_retailer.ipynb\" target=\"_parent\"><img src=\"https://colab.research.google.com/assets/colab-badge.svg\" alt=\"Open In Colab\"/></a>"
      ]
    },
    {
      "cell_type": "code",
      "execution_count": 265,
      "metadata": {
        "id": "BdAGskvs_mVL"
      },
      "outputs": [],
      "source": [
        "#Importamos librerias requeridas\n",
        "import pandas as pd \n",
        "import numpy as np \n",
        "import matplotlib.pyplot as  plt"
      ]
    },
    {
      "cell_type": "code",
      "source": [
        "#Cargar archivo csv desde seaborn\n",
        "from google.colab import files \n",
        "files.upload()"
      ],
      "metadata": {
        "id": "HQNl-gOY_q1A"
      },
      "execution_count": null,
      "outputs": []
    },
    {
      "cell_type": "code",
      "source": [
        "#Carga desde un archivo .csv sin indice \n",
        "data = pd.read_excel('microretailer_mit_lift_lab.xlsx')"
      ],
      "metadata": {
        "id": "DDI6z1Sd_tf8"
      },
      "execution_count": 267,
      "outputs": []
    },
    {
      "cell_type": "code",
      "source": [
        "#Imprimo los primeros 5 registros del DataFrame\n",
        "data.head()"
      ],
      "metadata": {
        "id": "9AU1dmFoAOMh"
      },
      "execution_count": null,
      "outputs": []
    },
    {
      "cell_type": "code",
      "source": [
        "#Corroboramos valores nulos \n",
        "valores_nulos=data.isnull().sum()\n",
        "valores_nulos"
      ],
      "metadata": {
        "id": "WzeOTGv0ARX6",
        "outputId": "85a2eead-f16f-4874-ea24-8a6a2f76a93a",
        "colab": {
          "base_uri": "https://localhost:8080/"
        }
      },
      "execution_count": 269,
      "outputs": [
        {
          "output_type": "execute_result",
          "data": {
            "text/plain": [
              "_record_id                                0\n",
              "_title                                    0\n",
              "_server_updated_at                        0\n",
              "_updated_by                               0\n",
              "_geometry                                 0\n",
              "                                       ... \n",
              "234_willingness_participate_workshop     73\n",
              "318_shopkeeper_name                     123\n",
              "319_shopkeepers_last_name               125\n",
              "236_whatsapp                            129\n",
              "235_email                               142\n",
              "Length: 106, dtype: int64"
            ]
          },
          "metadata": {},
          "execution_count": 269
        }
      ]
    },
    {
      "cell_type": "code",
      "source": [
        "data.info()"
      ],
      "metadata": {
        "colab": {
          "base_uri": "https://localhost:8080/"
        },
        "id": "QsbVd1a-f9cp",
        "outputId": "697e127e-2096-4d95-a284-d759c72e72bb"
      },
      "execution_count": 270,
      "outputs": [
        {
          "output_type": "stream",
          "name": "stdout",
          "text": [
            "<class 'pandas.core.frame.DataFrame'>\n",
            "RangeIndex: 171 entries, 0 to 170\n",
            "Columns: 106 entries, _record_id to 235_email\n",
            "dtypes: float64(23), int64(2), object(81)\n",
            "memory usage: 141.7+ KB\n"
          ]
        }
      ]
    },
    {
      "cell_type": "code",
      "source": [
        "#Sustituir valores nulos por un string en concreto\n",
        "data[\"pictures_of_shelves_if_possible\"]= data[\"pictures_of_shelves_if_possible\"].fillna(\"No_picture\")\n",
        "#Argumentacion: Se utilizó el método de sustituir los valores nulos por un valor en concreto. \n",
        "#En este caso los datos son las fotos de los estantes. Los valores nulos son string y por eso se reemplazaron estos valores con la frase \"No_picture\" para no \n",
        "#perder la información de las demás filas."
      ],
      "metadata": {
        "id": "1BnCUiPwi9Me"
      },
      "execution_count": 271,
      "outputs": []
    },
    {
      "cell_type": "code",
      "source": [
        "#Sustituir valores nulos por un string en concreto\n",
        "data[\"233_date_establishment\"]= data[\"233_date_establishment\"].fillna(\"No_date\")\n",
        "#Argumentacion: Se utilizó el método de sustituir los valores nulos por un valor en concreto. \n",
        "#En este caso los datos son la fecha de fundación del establecimiento. Los valores nulos son string y por eso se reemplazaron estos valores con la frase \"No_date\" para no \n",
        "#perder la información de las demás filas."
      ],
      "metadata": {
        "id": "7G-poc-gjQI1"
      },
      "execution_count": 272,
      "outputs": []
    },
    {
      "cell_type": "code",
      "source": [
        "#Sustituir valores nulos por un string en concreto\n",
        "data[\"5_change_store_space_last_year\"]= data[\"5_change_store_space_last_year\"].fillna(\"No_info\")\n",
        "#Argumentacion: Se utilizó el método de sustituir los valores nulos por un valor en concreto. \n",
        "#En este caso los datos son las respuestas a si el espacio en la tienda ha cambiado. Los valores nulos son string y por eso se reemplazaron estos valores con la frase \"No_info\" para no \n",
        "#perder la información de las demás filas."
      ],
      "metadata": {
        "id": "93nB8XBmjiJ_"
      },
      "execution_count": 273,
      "outputs": []
    },
    {
      "cell_type": "code",
      "source": [
        "#Sustituir valores nulos por un string en concreto\n",
        "data[\"6_change_employees_average_salary_last_year\"]= data[\"6_change_employees_average_salary_last_year\"].fillna(\"No_info\")\n",
        "#Argumentacion: Se utilizó el método de sustituir los valores nulos por un valor en concreto. \n",
        "#En este caso los datos son las respuestas a si el salario de los empleados ha cambiado. Los valores nulos son string y por eso se reemplazaron estos valores con la frase \"No_info\" para no \n",
        "#perder la información de las demás filas."
      ],
      "metadata": {
        "id": "PtsIlkuujww-"
      },
      "execution_count": 274,
      "outputs": []
    },
    {
      "cell_type": "code",
      "source": [
        "#Sustituir valores nulos por un string en concreto\n",
        "data[\"20_reviews_finances_monthly\"] =data[\"20_reviews_finances_monthly\"].fillna(\"No answer\")\n",
        "#Argumentacion: Se utilizó el método de sustituir los valores nulos por un valor en concreto. \n",
        "#En este caso los datos son las respuestas a si se revisan las finanzas mensualmente. Los valores nulos son string y por eso se reemplazaron estos valores con la frase \"No answer\" para no \n",
        "#perder la información de las demás filas."
      ],
      "metadata": {
        "id": "8XqC_gcXj_l6"
      },
      "execution_count": 275,
      "outputs": []
    },
    {
      "cell_type": "code",
      "source": [
        "#Sustituir valores nulos por un string en concreto\n",
        "data[\"49_inventory_records\"]= data[\"49_inventory_records\"].fillna(\"No_info\")\n",
        "#Argumentacion: Se utilizó el método de sustituir los valores nulos por un valor en concreto. \n",
        "#En este caso los datos son las respuestas a si se tiene un registro de inventario. Los valores nulos son string y por eso se reemplazaron estos valores con la frase \"No_info\" para no \n",
        "#perder la información de las demás filas."
      ],
      "metadata": {
        "id": "JQKu-wcOlS99"
      },
      "execution_count": 276,
      "outputs": []
    },
    {
      "cell_type": "code",
      "source": [
        "#Sustituir valores nulos por un string en concreto\n",
        "data[\"18_sales_records\"]= data[\"18_sales_records\"].fillna(\"No_info\")\n",
        "#Argumentacion: Se utilizó el método de sustituir los valores nulos por un valor en concreto. \n",
        "#En este caso los datos son los registros de venta. Los valores nulos son string y por eso se reemplazaron estos valores con la frase \"No_info\" para no \n",
        "#perder la información de las demás filas."
      ],
      "metadata": {
        "id": "66hrbYgJlhHt"
      },
      "execution_count": 277,
      "outputs": []
    },
    {
      "cell_type": "code",
      "source": [
        "#Sustituir valores nulos por un string en concreto\n",
        "data[\"155_sales_registers_used_for\"]= data[\"155_sales_registers_used_for\"].fillna(\"No_info\")\n",
        "#Argumentacion: Se utilizó el método de sustituir los valores nulos por un valor en concreto. \n",
        "#En este caso los datos son los registros de para que se usan las ventas. Los valores nulos son string y por eso se reemplazaron estos valores con la frase \"No_info\" para no \n",
        "#perder la información de las demás filas."
      ],
      "metadata": {
        "id": "x6W7cQwUlsZ5"
      },
      "execution_count": 278,
      "outputs": []
    },
    {
      "cell_type": "code",
      "source": [
        "#Sustituir valores nulos por un string en concreto\n",
        "data[\"19_tax_id\"] =data[\"19_tax_id\"].fillna(\"No answer\")\n",
        "#Argumentacion: Se utilizó el método de sustituir los valores nulos por un valor en concreto. \n",
        "#En este caso los datos son los registros de si la tienda tiene RFC. Los valores nulos son string y por eso se reemplazaron estos valores con la frase \"No answer\" para no \n",
        "#perder la información de las demás filas."
      ],
      "metadata": {
        "id": "ZbfidSEkl5J6"
      },
      "execution_count": 279,
      "outputs": []
    },
    {
      "cell_type": "code",
      "source": [
        "#Sustituir valores nulos por un string en concreto\n",
        "data[\"310_burnout\"] =data[\"310_burnout\"].fillna(\"No answer\")\n",
        "#Argumentacion: Se utilizó el método de sustituir los valores nulos por un valor en concreto. \n",
        "#En este caso los datos son las respuestas a si el empleado se siente agotado. Los valores nulos son string y por eso se reemplazaron estos valores con la frase \"No answer\" para no \n",
        "#perder la información de las demás filas."
      ],
      "metadata": {
        "id": "lTcMODdymG7K"
      },
      "execution_count": 280,
      "outputs": []
    },
    {
      "cell_type": "code",
      "source": [
        "#Sustituir valores nulos por un string en concreto\n",
        "data[\"186_internet_connection\"] =data[\"186_internet_connection\"].fillna(\"No answer\")\n",
        "#Argumentacion: Se utilizó el método de sustituir los valores nulos por un valor en concreto. \n",
        "#En este caso los datos son las respuestas a si el establecimiento tiene internet. Los valores nulos son string y por eso se reemplazaron estos valores con la frase \"No answer\" para no \n",
        "#perder la información de las demás filas."
      ],
      "metadata": {
        "id": "8n1e3nYCpnFp"
      },
      "execution_count": 281,
      "outputs": []
    },
    {
      "cell_type": "code",
      "source": [
        "#Sustituir valores nulos por un string en concreto\n",
        "data[\"210_sales_channels\"]= data[\"210_sales_channels\"].fillna(\"No_info\")\n",
        "#Argumentacion: Se utilizó el método de sustituir los valores nulos por un valor en concreto. \n",
        "#En este caso los datos de si se tiene canales de venta. Los valores nulos son string y por eso se reemplazaron estos valores con la frase \"No_info\" para no \n",
        "#perder la información de las demás filas."
      ],
      "metadata": {
        "id": "bqOXsTD5pwH-"
      },
      "execution_count": 282,
      "outputs": []
    },
    {
      "cell_type": "code",
      "source": [
        "#Sustituir valores nulos por un string en concreto\n",
        "data[\"189_payment_methods\"]= data[\"189_payment_methods\"].fillna(\"No_info\")\n",
        "#Argumentacion: Se utilizó el método de sustituir los valores nulos por un valor en concreto. \n",
        "#En este caso los datos de los métodos de pago. Los valores nulos son string y por eso se reemplazaron estos valores con la frase \"No_info\" para no \n",
        "#perder la información de las demás filas."
      ],
      "metadata": {
        "id": "mJfEFNiXp8EQ"
      },
      "execution_count": 283,
      "outputs": []
    },
    {
      "cell_type": "code",
      "source": [
        "#Sustituir valores nulos por un string en concreto\n",
        "data[\"28_prefered_payment_method\"]= data[\"28_prefered_payment_method\"].fillna(\"No_info\")\n",
        "#Argumentacion: Se utilizó el método de sustituir los valores nulos por un valor en concreto. \n",
        "#En este caso los datos son el método de pago preferido. Los valores nulos son string y por eso se reemplazaron estos valores con la frase \"No_info\" para no \n",
        "#perder la información de las demás filas."
      ],
      "metadata": {
        "id": "TaaFLHRcqHt5"
      },
      "execution_count": 284,
      "outputs": []
    },
    {
      "cell_type": "code",
      "source": [
        "#Sustituir valores nulos por un string en concreto\n",
        "data[\"31_different_prices_payment_method\"] =data[\"31_different_prices_payment_method\"].fillna(\"No answer\")\n",
        "#Argumentacion: Se utilizó el método de sustituir los valores nulos por un valor en concreto. \n",
        "#En este caso los datos son los diferentes precios por método de pago. Los valores nulos son string y por eso se reemplazaron estos valores con la frase \"No answer\" para no \n",
        "#perder la información de las demás filas."
      ],
      "metadata": {
        "id": "0U-VN3S9qUjo"
      },
      "execution_count": 285,
      "outputs": []
    },
    {
      "cell_type": "code",
      "source": [
        "#Sustituir valores nulos por un string en concreto\n",
        "data[\"269_cash_discount\"]= data[\"269_cash_discount\"].fillna(\"No_info\")\n",
        "#Argumentacion: Se utilizó el método de sustituir los valores nulos por un valor en concreto. \n",
        "#En este caso los datos son la respuesta a si hay descuentos. Los valores nulos son string y por eso se reemplazaron estos valores con la frase \"No_info\" para no \n",
        "#perder la información de las demás filas."
      ],
      "metadata": {
        "id": "v0fgd7OJqkFS"
      },
      "execution_count": 286,
      "outputs": []
    },
    {
      "cell_type": "code",
      "source": [
        "#Sustituir valores nulos por un string en concreto\n",
        "data[\"270_card_extra_charge\"]= data[\"270_card_extra_charge\"].fillna(\"No_info\")\n",
        "#Argumentacion: Se utilizó el método de sustituir los valores nulos por un valor en concreto. \n",
        "#En este caso los datos son las respuestas a si hay cargo extra por tarjeta. Los valores nulos son string y por eso se reemplazaron estos valores con la frase \"No_info\" para no \n",
        "#perder la información de las demás filas."
      ],
      "metadata": {
        "id": "DyZrTbT5qtjn"
      },
      "execution_count": 287,
      "outputs": []
    },
    {
      "cell_type": "code",
      "source": [
        "#Eliminamos columnas innecesarias \n",
        "data2= data.drop(['271_card_fee'], axis=1)\n",
        "#Se eliminó la columna \"271_card_fee\" del dataframe porque ninguna fila tiene datos; todos son valores nulos por lo que es \n",
        "#mejor quitar la columna del conjunto de datos ya que es innecesaria."
      ],
      "metadata": {
        "id": "8_nZVrEsq7ek"
      },
      "execution_count": 288,
      "outputs": []
    },
    {
      "cell_type": "code",
      "source": [
        "#Eliminamos columnas innecesarias \n",
        "data3= data2.drop(['273_platform_extra_charge'], axis=1)\n",
        "#Se eliminó la columna \"273_platform_extra_charge\" del dataframe porque ninguna fila tiene datos; todos son valores nulos por lo que es \n",
        "#mejor quitar la columna del conjunto de datos ya que es innecesaria."
      ],
      "metadata": {
        "id": "q3AGKODwrNh9"
      },
      "execution_count": 289,
      "outputs": []
    },
    {
      "cell_type": "code",
      "source": [
        "#Eliminamos columnas innecesarias \n",
        "data4= data3.drop(['274_platform_fee'], axis=1)\n",
        "#Se eliminó la columna \"274_platform_fee\" del dataframe porque ninguna fila tiene datos; todos son valores nulos por lo que es \n",
        "#mejor quitar la columna del conjunto de datos ya que es innecesaria."
      ],
      "metadata": {
        "id": "3C73DXTzrfJR"
      },
      "execution_count": 290,
      "outputs": []
    },
    {
      "cell_type": "code",
      "source": [
        "#Eliminamos columnas innecesarias \n",
        "data5= data4.drop(['275_platform_days_receive_money'], axis=1)\n",
        "#Se eliminó la columna \"275_platform_days_receive_money\" del dataframe porque ninguna fila tiene datos; todos son valores nulos por lo que es \n",
        "#mejor quitar la columna del conjunto de datos ya que es innecesaria."
      ],
      "metadata": {
        "id": "LlTSkL8csBe6"
      },
      "execution_count": 291,
      "outputs": []
    },
    {
      "cell_type": "code",
      "source": [
        "#Sustituir valores nulos por un string en concreto\n",
        "data5[\"30_payment_methods_large_purchases\"]= data5[\"30_payment_methods_large_purchases\"].fillna(\"No_info\")\n",
        "#Argumentacion: Se utilizó el método de sustituir los valores nulos por un valor en concreto. \n",
        "#En este caso los datos son las respuestas a si hay pagos tardíos. Los valores nulos son string y por eso se reemplazaron estos valores con la frase \"No_info\" para no \n",
        "#perder la información de las demás filas."
      ],
      "metadata": {
        "id": "7EAZ1tfZsPHg"
      },
      "execution_count": 292,
      "outputs": []
    },
    {
      "cell_type": "code",
      "source": [
        "#Sustituir valores nulos por un string en concreto\n",
        "data5[\"214_customer_relationship_tools\"]= data5[\"214_customer_relationship_tools\"].fillna(\"No_info\")\n",
        "#Argumentacion: Se utilizó el método de sustituir los valores nulos por un valor en concreto. \n",
        "#En este caso los datos son si existen herramientas para comunicarse con los clientes. Los valores nulos son string y por eso se reemplazaron estos valores con la frase \"No_info\" para no \n",
        "#perder la información de las demás filas."
      ],
      "metadata": {
        "id": "6kTF2A8tsbZh"
      },
      "execution_count": 293,
      "outputs": []
    },
    {
      "cell_type": "code",
      "source": [
        "#Sustituir valores nulos por un string en concreto\n",
        "data5[\"33_credit_to_customers\"] =data5[\"33_credit_to_customers\"].fillna(\"No answer\")\n",
        "#Argumentacion: Se utilizó el método de sustituir los valores nulos por un valor en concreto. \n",
        "#En este caso los datos son si se le da crédito a los clientes. Los valores nulos son string y por eso se reemplazaron estos valores con la frase \"No answer\" para no \n",
        "#perder la información de las demás filas."
      ],
      "metadata": {
        "id": "OxLlMfMms2PK"
      },
      "execution_count": 294,
      "outputs": []
    },
    {
      "cell_type": "code",
      "source": [
        "#Sustituir valores nulos por un string en concreto\n",
        "data5[\"35_interest_rate\"] =data5[\"35_interest_rate\"].fillna(\"No answer\")\n",
        "#Argumentacion: Se utilizó el método de sustituir los valores nulos por un valor en concreto. \n",
        "#En este caso los datos son el rango de interés. Los valores nulos son string y por eso se reemplazaron estos valores con la frase \"No answer\" para no \n",
        "#perder la información de las demás filas."
      ],
      "metadata": {
        "id": "x9kKZqEktDeR"
      },
      "execution_count": 295,
      "outputs": []
    },
    {
      "cell_type": "code",
      "source": [
        "#Sustituir valores nulos por un string en concreto\n",
        "data5[\"38_average_margin_profits\"]= data5[\"38_average_margin_profits\"].fillna(\"No_info\")\n",
        "#Argumentacion: Se utilizó el método de sustituir los valores nulos por un valor en concreto. \n",
        "#En este caso los datos son los márgenes de ganancia. Los valores nulos son string y por eso se reemplazaron estos valores con la frase \"No_info\" para no \n",
        "#perder la información de las demás filas."
      ],
      "metadata": {
        "id": "p1fKn_8RtdYD"
      },
      "execution_count": 296,
      "outputs": []
    },
    {
      "cell_type": "code",
      "source": [
        "#Sustituir valores nulos por un string en concreto\n",
        "data5[\"193_sales_planning_tools\"]= data5[\"193_sales_planning_tools\"].fillna(\"No_info\")\n",
        "#Argumentacion: Se utilizó el método de sustituir los valores nulos por un valor en concreto. \n",
        "#En este caso los datos son cómo planean ventas. Los valores nulos son string y por eso se reemplazaron estos valores con la frase \"No_info\" para no \n",
        "#perder la información de las demás filas."
      ],
      "metadata": {
        "id": "FywHBWYZtm8F"
      },
      "execution_count": 297,
      "outputs": []
    },
    {
      "cell_type": "code",
      "source": [
        "#Sustituir valores nulos por un string en concreto\n",
        "data5[\"227_agreement_ecommerce_platforms\"] =data5[\"227_agreement_ecommerce_platforms\"].fillna(\"No answer\")\n",
        "#Argumentacion: Se utilizó el método de sustituir los valores nulos por un valor en concreto. \n",
        "#En este caso los datos son si hay acuerdos con plataformas en línea. Los valores nulos son string y por eso se reemplazaron estos valores con la frase \"No answer\" para no \n",
        "#perder la información de las demás filas."
      ],
      "metadata": {
        "id": "QAaP7idhtyjO"
      },
      "execution_count": 298,
      "outputs": []
    },
    {
      "cell_type": "code",
      "source": [
        "#Sustituir valores nulos por un string en concreto\n",
        "data5[\"60_services\"]= data5[\"60_services\"].fillna(\"No_info\")\n",
        "#Argumentacion: Se utilizó el método de sustituir los valores nulos por un valor en concreto. \n",
        "#En este caso los datos son si hay pago de servicios. Los valores nulos son string y por eso se reemplazaron estos valores con la frase \"No_info\" para no \n",
        "#perder la información de las demás filas."
      ],
      "metadata": {
        "id": "H61PHmZpt8De"
      },
      "execution_count": 299,
      "outputs": []
    },
    {
      "cell_type": "code",
      "source": [
        "#Sustituir valores nulos por un string en concreto\n",
        "data5[\"77_delivery_timeslots\"]= data5[\"77_delivery_timeslots\"].fillna(\"No_info\")\n",
        "#Argumentacion: Se utilizó el método de sustituir los valores nulos por un valor en concreto. \n",
        "#En este caso los datos son los tiempos de entrega de mercancía. Los valores nulos son string y por eso se reemplazaron estos valores con la frase \"No_info\" para no \n",
        "#perder la información de las demás filas."
      ],
      "metadata": {
        "id": "TOC6xM07uM2e"
      },
      "execution_count": 300,
      "outputs": []
    },
    {
      "cell_type": "code",
      "source": [
        "#Sustituir valores nulos por un string en concreto\n",
        "data5[\"79_delivery_vehicle\"]= data5[\"79_delivery_vehicle\"].fillna(\"No_info\")\n",
        "#Argumentacion: Se utilizó el método de sustituir los valores nulos por un valor en concreto. \n",
        "#En este caso los datos son los datos del repartidor. Los valores nulos son string y por eso se reemplazaron estos valores con la frase \"No_info\" para no \n",
        "#perder la información de las demás filas."
      ],
      "metadata": {
        "id": "hWKi38nwuV-i"
      },
      "execution_count": 301,
      "outputs": []
    },
    {
      "cell_type": "code",
      "source": [
        "#Sustituir valores nulos por un string en concreto\n",
        "data5[\"64_comission_services\"]= data5[\"64_comission_services\"].fillna(\"No_info\")\n",
        "#Argumentacion: Se utilizó el método de sustituir los valores nulos por un valor en concreto. \n",
        "#En este caso los datos son la comisión por servicio. Los valores nulos son string y por eso se reemplazaron estos valores con la frase \"No_info\" para no \n",
        "#perder la información de las demás filas."
      ],
      "metadata": {
        "id": "k5tLZITeuozN"
      },
      "execution_count": 302,
      "outputs": []
    },
    {
      "cell_type": "code",
      "source": [
        "#Sustituir valores nulos por un string en concreto\n",
        "data5[\"66_percentaje_services_income\"]= data5[\"66_percentaje_services_income\"].fillna(\"No_info\")\n",
        "#Argumentacion: Se utilizó el método de sustituir los valores nulos por un valor en concreto. \n",
        "#En este caso los datos son el porcentaje por servicios. Los valores nulos son string y por eso se reemplazaron estos valores con la frase \"No_info\" para no \n",
        "#perder la información de las demás filas."
      ],
      "metadata": {
        "id": "mW84hxEruzNl"
      },
      "execution_count": 303,
      "outputs": []
    },
    {
      "cell_type": "code",
      "source": [
        "#Sustituir valores nulos por un string en concreto\n",
        "data5[\"69_why_not_services\"]= data5[\"69_why_not_services\"].fillna(\"No_info\")\n",
        "#Argumentacion: Se utilizó el método de sustituir los valores nulos por un valor en concreto. \n",
        "#En este caso los datos son por que no se da el servicio. Los valores nulos son string y por eso se reemplazaron estos valores con la frase \"No_info\" para no \n",
        "#perder la información de las demás filas."
      ],
      "metadata": {
        "id": "HkTGWTNau8zy"
      },
      "execution_count": 304,
      "outputs": []
    },
    {
      "cell_type": "code",
      "source": [
        "#Sustituir valores nulos por un string en concreto\n",
        "data5[\"311_topups\"]= data5[\"311_topups\"].fillna(\"No_info\")\n",
        "#Argumentacion: Se utilizó el método de sustituir los valores nulos por un valor en concreto. \n",
        "#En este caso los datos son de los topups. Los valores nulos son string y por eso se reemplazaron estos valores con la frase \"No_info\" para no \n",
        "#perder la información de las demás filas."
      ],
      "metadata": {
        "id": "li-L3ZoPvGIr"
      },
      "execution_count": 305,
      "outputs": []
    },
    {
      "cell_type": "code",
      "source": [
        "#Sustituir valores nulos por un string en concreto\n",
        "data5[\"312_payment_of_utilities\"]= data5[\"312_payment_of_utilities\"].fillna(\"No_info\") \n",
        "#Argumentacion: Se utilizó el método de sustituir los valores nulos por un valor en concreto. \n",
        "#En este caso los datos son las utilidades de pago. Los valores nulos son string y por eso se reemplazaron estos valores con la frase \"No_info\" para no \n",
        "#perder la información de las demás filas."
      ],
      "metadata": {
        "id": "YtXIByUyvPxw"
      },
      "execution_count": 306,
      "outputs": []
    },
    {
      "cell_type": "code",
      "source": [
        "#Sustituir valores nulos por un string en concreto\n",
        "data5[\"313_home_deliveries\"]= data5[\"313_home_deliveries\"].fillna(\"No_info\")\n",
        "#Argumentacion: Se utilizó el método de sustituir los valores nulos por un valor en concreto. \n",
        "#En este caso los datos son si se entrega a domicilio. Los valores nulos son string y por eso se reemplazaron estos valores con la frase \"No_info\" para no \n",
        "#perder la información de las demás filas."
      ],
      "metadata": {
        "id": "UEMDMZ99vY9h"
      },
      "execution_count": 307,
      "outputs": []
    },
    {
      "cell_type": "code",
      "source": [
        "#Sustituir valores nulos por un string en concreto\n",
        "data5[\"314_reception_delivery_packages\"]= data5[\"314_reception_delivery_packages\"].fillna(\"No_info\")\n",
        "#Argumentacion: Se utilizó el método de sustituir los valores nulos por un valor en concreto. \n",
        "#En este caso los datos son si recibirían paquetes. Los valores nulos son string y por eso se reemplazaron estos valores con la frase \"No_info\" para no \n",
        "#perder la información de las demás filas."
      ],
      "metadata": {
        "id": "FmmOiafPvh2g"
      },
      "execution_count": 308,
      "outputs": []
    },
    {
      "cell_type": "code",
      "source": [
        "#Sustituir valores nulos por un string en concreto\n",
        "data5[\"42_willingness_share_inventory_data_suppliers\"]= data5[\"42_willingness_share_inventory_data_suppliers\"].fillna(\"No_info\")\n",
        "#Argumentacion: Se utilizó el método de sustituir los valores nulos por un valor en concreto. \n",
        "#En este caso los datos son si se quiere compartir información del inventario. Los valores nulos son string y por eso se reemplazaron estos valores con la frase \"No_info\" para no \n",
        "#perder la información de las demás filas."
      ],
      "metadata": {
        "id": "OopuDaNlvqid"
      },
      "execution_count": 309,
      "outputs": []
    },
    {
      "cell_type": "code",
      "source": [
        "#Sustituir valores nulos por un string en concreto\n",
        "data5[\"44_willingness_inventory_management_suppliers\"]= data5[\"44_willingness_inventory_management_suppliers\"].fillna(\"No_info\")\n",
        "#Argumentacion: Se utilizó el método de sustituir los valores nulos por un valor en concreto. \n",
        "#En este caso los datos son si se quiere compartor info con los suppliers. Los valores nulos son string y por eso se reemplazaron estos valores con la frase \"No_info\" para no \n",
        "#perder la información de las demás filas."
      ],
      "metadata": {
        "id": "X9WXjilQvzJ7"
      },
      "execution_count": 310,
      "outputs": []
    },
    {
      "cell_type": "code",
      "source": [
        "#Sustituir valores nulos por un string en concreto\n",
        "data5[\"45_willingness_reorder_suppliers\"]= data5[\"45_willingness_reorder_suppliers\"].fillna(\"No_info\")\n",
        "#Argumentacion: Se utilizó el método de sustituir los valores nulos por un valor en concreto. \n",
        "#En este caso los datos son si se dejaría a los suppliers ordenar. Los valores nulos son string y por eso se reemplazaron estos valores con la frase \"No_info\" para no \n",
        "#perder la información de las demás filas."
      ],
      "metadata": {
        "id": "cEKruIwYv8o5"
      },
      "execution_count": 311,
      "outputs": []
    },
    {
      "cell_type": "code",
      "source": [
        "#Sustituir valores nulos por un string en concreto\n",
        "data5[\"46_willingness_reorder_suppliers_variety\"]= data5[\"46_willingness_reorder_suppliers_variety\"].fillna(\"No_info\")\n",
        "#Argumentacion: Se utilizó el método de sustituir los valores nulos por un valor en concreto. \n",
        "#En este caso los datos son si se dejaría reordenar pero por más variedad. Los valores nulos son string y por eso se reemplazaron estos valores con la frase \"No_info\" para no \n",
        "#perder la información de las demás filas."
      ],
      "metadata": {
        "id": "4PFBA2wTwFVo"
      },
      "execution_count": 312,
      "outputs": []
    },
    {
      "cell_type": "code",
      "source": [
        "#Sustituir valores nulos por un string en concreto\n",
        "data5[\"47_willingness_reorder_suppliers_lower_prices\"]= data5[\"47_willingness_reorder_suppliers_lower_prices\"].fillna(\"No_info\")\n",
        "#Argumentacion: Se utilizó el método de sustituir los valores nulos por un valor en concreto. \n",
        "#En este caso los datos son si se dejaría reordenar por menores precios. Los valores nulos son string y por eso se reemplazaron estos valores con la frase \"No_info\" para no \n",
        "#perder la información de las demás filas."
      ],
      "metadata": {
        "id": "SS2ILJD6wO5P"
      },
      "execution_count": 313,
      "outputs": []
    },
    {
      "cell_type": "code",
      "source": [
        "#Sustituir valores nulos por un string en concreto\n",
        "data5[\"43_willingness_share_sales_data_suppliers\"]= data5[\"43_willingness_share_sales_data_suppliers\"].fillna(\"No_info\")\n",
        "#Argumentacion: Se utilizó el método de sustituir los valores nulos por un valor en concreto. \n",
        "#En este caso los datos son si se compartiría información de suppliers. Los valores nulos son string y por eso se reemplazaron estos valores con la frase \"No_info\" para no \n",
        "#perder la información de las demás filas."
      ],
      "metadata": {
        "id": "5uLUNKpywal0"
      },
      "execution_count": 314,
      "outputs": []
    },
    {
      "cell_type": "code",
      "source": [
        "#Sustituir valores nulos por un string en concreto\n",
        "data5[\"58_willingness_share_sales_data_mse\"]= data5[\"58_willingness_share_sales_data_mse\"].fillna(\"No_info\")\n",
        "#Argumentacion: Se utilizó el método de sustituir los valores nulos por un valor en concreto. \n",
        "#En este caso los datos son si se compartiría información de sus ganancias. Los valores nulos son string y por eso se reemplazaron estos valores con la frase \"No_info\" para no \n",
        "#perder la información de las demás filas."
      ],
      "metadata": {
        "id": "6-ARqnkKwrKb"
      },
      "execution_count": 315,
      "outputs": []
    },
    {
      "cell_type": "code",
      "source": [
        "#Sustituir valores nulos por un string en concreto\n",
        "data5[\"59_willingness_share_sales_data_mse_better_prices\"]= data5[\"59_willingness_share_sales_data_mse_better_prices\"].fillna(\"No_info\")\n",
        "#Argumentacion: Se utilizó el método de sustituir los valores nulos por un valor en concreto. \n",
        "#En este caso los datos son si se compartiría info de ganancias por mejores precios. Los valores nulos son string y por eso se reemplazaron estos valores con la frase \"No_info\" para no \n",
        "#perder la información de las demás filas."
      ],
      "metadata": {
        "id": "gewnrQtvw0Ip"
      },
      "execution_count": 316,
      "outputs": []
    },
    {
      "cell_type": "code",
      "source": [
        "#Sustituir valores nulos por un string en concreto\n",
        "data5[\"185_place_orders_suppliers\"]= data5[\"185_place_orders_suppliers\"].fillna(\"No_info\")\n",
        "#Argumentacion: Se utilizó el método de sustituir los valores nulos por un valor en concreto. \n",
        "#En este caso los datos son si se va al lugar de los suppliers. Los valores nulos son string y por eso se reemplazaron estos valores con la frase \"No_info\" para no \n",
        "#perder la información de las demás filas."
      ],
      "metadata": {
        "id": "N1jzniNBxBH1"
      },
      "execution_count": 317,
      "outputs": []
    },
    {
      "cell_type": "code",
      "source": [
        "#Sustituir valores nulos por un string en concreto\n",
        "data5[\"53_special_conditions_suppliers\"]= data5[\"53_special_conditions_suppliers\"].fillna(\"No_info\")\n",
        "#Argumentacion: Se utilizó el método de sustituir los valores nulos por un valor en concreto. \n",
        "#En este caso los datos son si hay condiciones especiales. Los valores nulos son string y por eso se reemplazaron estos valores con la frase \"No_info\" para no \n",
        "#perder la información de las demás filas."
      ],
      "metadata": {
        "id": "Ay8fpyetxKbc"
      },
      "execution_count": 318,
      "outputs": []
    },
    {
      "cell_type": "code",
      "source": [
        "#Sustituir valores nulos por un string en concreto\n",
        "data5[\"278_credit_interest\"]= data5[\"278_credit_interest\"].fillna(\"No_info\")\n",
        "#Argumentacion: Se utilizó el método de sustituir los valores nulos por un valor en concreto. \n",
        "#En este caso los datos son si hay interés en crédito. Los valores nulos son string y por eso se reemplazaron estos valores con la frase \"No_info\" para no \n",
        "#perder la información de las demás filas."
      ],
      "metadata": {
        "id": "yOdyKWw8xTpP"
      },
      "execution_count": 319,
      "outputs": []
    },
    {
      "cell_type": "code",
      "source": [
        "#Sustituir valores nulos por un string en concreto\n",
        "data5[\"192_procurement_planning_tools\"]= data5[\"192_procurement_planning_tools\"].fillna(\"No_info\")\n",
        "#Argumentacion: Se utilizó el método de sustituir los valores nulos por un valor en concreto. \n",
        "#En este caso los datos son de las planning tools. Los valores nulos son string y por eso se reemplazaron estos valores con la frase \"No_info\" para no \n",
        "#perder la información de las demás filas."
      ],
      "metadata": {
        "id": "yA_byoehxbeQ"
      },
      "execution_count": 320,
      "outputs": []
    },
    {
      "cell_type": "code",
      "source": [
        "#Sustituir valores nulos por un string en concreto\n",
        "data5[\"277_payment_method_suppliers\"]= data5[\"277_payment_method_suppliers\"].fillna(\"No_info\")\n",
        "#Argumentacion: Se utilizó el método de sustituir los valores nulos por un valor en concreto. \n",
        "#En este caso los datos son el método de pago a suppliers. Los valores nulos son string y por eso se reemplazaron estos valores con la frase \"No_info\" para no \n",
        "#perder la información de las demás filas."
      ],
      "metadata": {
        "id": "kaYgLjJXxlQV"
      },
      "execution_count": 321,
      "outputs": []
    },
    {
      "cell_type": "code",
      "source": [
        "#Sustituir valores nulos por un string en concreto\n",
        "data5[\"56_procurement_changes_pandemic\"] =data5[\"56_procurement_changes_pandemic\"].fillna(\"No answer\")\n",
        "#Argumentacion: Se utilizó el método de sustituir los valores nulos por un valor en concreto. \n",
        "#En este caso los datos son los cambios por la pandemia. Los valores nulos son string y por eso se reemplazaron estos valores con la frase \"No answer\" para no \n",
        "#perder la información de las demás filas."
      ],
      "metadata": {
        "id": "B8SQDWUNxxWQ"
      },
      "execution_count": 322,
      "outputs": []
    },
    {
      "cell_type": "code",
      "source": [
        "#Sustituir valores nulos por un string en concreto\n",
        "data5[\"279_changes_procurement_pandemic\"]= data5[\"279_changes_procurement_pandemic\"].fillna(\"No_info\")\n",
        "#Argumentacion: Se utilizó el método de sustituir los valores nulos por un valor en concreto. \n",
        "#En este caso los datos son las cambios por la pandemia. Los valores nulos son string y por eso se reemplazaron estos valores con la frase \"No_info\" para no \n",
        "#perder la información de las demás filas."
      ],
      "metadata": {
        "id": "TzLz3K86x7jr"
      },
      "execution_count": 323,
      "outputs": []
    },
    {
      "cell_type": "code",
      "source": [
        "#Sustituir valores nulos por un string en concreto\n",
        "data5[\"157_frequency_organize_shelves\"]= data5[\"157_frequency_organize_shelves\"].fillna(\"No_info\")\n",
        "#Argumentacion: Se utilizó el método de sustituir los valores nulos por un valor en concreto. \n",
        "#En este caso los datos son la frecuencia de ordenar. Los valores nulos son string y por eso se reemplazaron estos valores con la frase \"No_info\" para no \n",
        "#perder la información de las demás filas."
      ],
      "metadata": {
        "id": "cjSYPKYHyH87"
      },
      "execution_count": 324,
      "outputs": []
    },
    {
      "cell_type": "code",
      "source": [
        "#Sustituir valores nulos por un string en concreto\n",
        "data5[\"158_charact_organize_products_on_shelves\"]= data5[\"158_charact_organize_products_on_shelves\"].fillna(\"No_info\")\n",
        "#Argumentacion: Se utilizó el método de sustituir los valores nulos por un valor en concreto. \n",
        "#En este caso los datos son de los productos en estantes. Los valores nulos son string y por eso se reemplazaron estos valores con la frase \"No_info\" para no \n",
        "#perder la información de las demás filas."
      ],
      "metadata": {
        "id": "g08yTaGTyRN3"
      },
      "execution_count": 325,
      "outputs": []
    },
    {
      "cell_type": "code",
      "source": [
        "#Sustituir valores nulos por un string en concreto\n",
        "data5[\"161_actions_stockouts\"]= data5[\"161_actions_stockouts\"].fillna(\"No_info\")\n",
        "#Argumentacion: Se utilizó el método de sustituir los valores nulos por un valor en concreto. \n",
        "#En este caso los datos son las acciones en escacez. Los valores nulos son string y por eso se reemplazaron estos valores con la frase \"No_info\" para no \n",
        "#perder la información de las demás filas."
      ],
      "metadata": {
        "id": "HZ66shrZybnH"
      },
      "execution_count": 326,
      "outputs": []
    },
    {
      "cell_type": "code",
      "source": [
        "#Sustituir valores nulos por un string en concreto\n",
        "data5[\"162_inventory_extra_space\"]= data5[\"162_inventory_extra_space\"].fillna(\"No_info\")\n",
        "#Argumentacion: Se utilizó el método de sustituir los valores nulos por un valor en concreto. \n",
        "#En este caso los datos son el inventario extra. Los valores nulos son string y por eso se reemplazaron estos valores con la frase \"No_info\" para no \n",
        "#perder la información de las demás filas."
      ],
      "metadata": {
        "id": "heAxr76Oyo96"
      },
      "execution_count": 327,
      "outputs": []
    },
    {
      "cell_type": "code",
      "source": [
        "#Sustituir valores nulos por un string en concreto\n",
        "data5[\"249_technology_training\"]= data5[\"249_technology_training\"].fillna(\"No_info\")\n",
        "#Argumentacion: Se utilizó el método de sustituir los valores nulos por un valor en concreto. \n",
        "#En este caso los datos son las fotos de la mercancía siendo entregada. Los valores nulos son string y por eso se reemplazaron estos valores con la frase \"No_info\" para no \n",
        "#perder la información de las demás filas."
      ],
      "metadata": {
        "id": "-NcIhSKgy0Pv"
      },
      "execution_count": 328,
      "outputs": []
    },
    {
      "cell_type": "code",
      "source": [
        "#Sustituir valores nulos por un string en concreto\n",
        "data5[\"250_technology_investment_operations\"]= data5[\"250_technology_investment_operations\"].fillna(\"No_info\")\n",
        "#Argumentacion: Se utilizó el método de sustituir los valores nulos por un valor en concreto. \n",
        "#En este caso los datos son las fotos de la mercancía siendo entregada. Los valores nulos son string y por eso se reemplazaron estos valores con la frase \"No_info\" para no \n",
        "#perder la información de las demás filas."
      ],
      "metadata": {
        "id": "qi5EUHYxy8Dp"
      },
      "execution_count": 329,
      "outputs": []
    },
    {
      "cell_type": "code",
      "source": [
        "#Sustituir valores nulos por un string en concreto\n",
        "data5[\"251_technology_investment_customers\"]= data5[\"251_technology_investment_customers\"].fillna(\"No_info\")\n",
        "#Argumentacion: Se utilizó el método de sustituir los valores nulos por un valor en concreto. \n",
        "#En este caso los datos son las fotos de la mercancía siendo entregada. Los valores nulos son string y por eso se reemplazaron estos valores con la frase \"No_info\" para no \n",
        "#perder la información de las demás filas."
      ],
      "metadata": {
        "id": "Wf7J2nWnzEIY"
      },
      "execution_count": 330,
      "outputs": []
    },
    {
      "cell_type": "code",
      "source": [
        "#Sustituir valores nulos por un string en concreto\n",
        "data5[\"254_technology_roadmap\"]= data5[\"254_technology_roadmap\"].fillna(\"No_info\")\n",
        "#Argumentacion: Se utilizó el método de sustituir los valores nulos por un valor en concreto. \n",
        "#En este caso los datos son las fotos de la mercancía siendo entregada. Los valores nulos son string y por eso se reemplazaron estos valores con la frase \"No_picture\" para no \n",
        "#perder la información de las demás filas."
      ],
      "metadata": {
        "id": "gTcfwcAfzNYg"
      },
      "execution_count": 331,
      "outputs": []
    },
    {
      "cell_type": "code",
      "source": [
        "#Sustituir valores nulos por un string en concreto\n",
        "data5[\"260_technology_scalable\"]= data5[\"260_technology_scalable\"].fillna(\"No_info\")\n",
        "#Argumentacion: Se utilizó el método de sustituir los valores nulos por un valor en concreto. \n",
        "#En este caso los datos son las fotos de la mercancía siendo entregada. Los valores nulos son string y por eso se reemplazaron estos valores con la frase \"No_picture\" para no \n",
        "#perder la información de las demás filas."
      ],
      "metadata": {
        "id": "QXBjn3oIzVcz"
      },
      "execution_count": 332,
      "outputs": []
    },
    {
      "cell_type": "code",
      "source": [
        "#Sustituir valores nulos por un string en concreto\n",
        "data5[\"261_technology_organization\"]= data5[\"261_technology_organization\"].fillna(\"No_info\")\n",
        "#Argumentacion: Se utilizó el método de sustituir los valores nulos por un valor en concreto. \n",
        "#En este caso los datos son las fotos de la mercancía siendo entregada. Los valores nulos son string y por eso se reemplazaron estos valores con la frase \"No_picture\" para no \n",
        "#perder la información de las demás filas."
      ],
      "metadata": {
        "id": "_oiq7hAkzeLO"
      },
      "execution_count": 333,
      "outputs": []
    },
    {
      "cell_type": "code",
      "source": [
        "#Sustituir valores nulos por un string en concreto\n",
        "data5[\"262_technology_serve_customers\"]= data5[\"262_technology_serve_customers\"].fillna(\"No_info\")\n",
        "#Argumentacion: Se utilizó el método de sustituir los valores nulos por un valor en concreto. \n",
        "#En este caso los datos son las fotos de la mercancía siendo entregada. Los valores nulos son string y por eso se reemplazaron estos valores con la frase \"No_picture\" para no \n",
        "#perder la información de las demás filas."
      ],
      "metadata": {
        "id": "kf2iQBk9zmk-"
      },
      "execution_count": 334,
      "outputs": []
    },
    {
      "cell_type": "code",
      "source": [
        "#Sustituir valores nulos por un string en concreto\n",
        "data5[\"263_technology_secure_sales\"]= data5[\"263_technology_secure_sales\"].fillna(\"No_info\")\n",
        "#Argumentacion: Se utilizó el método de sustituir los valores nulos por un valor en concreto. \n",
        "#En este caso los datos son las fotos de la mercancía siendo entregada. Los valores nulos son string y por eso se reemplazaron estos valores con la frase \"No_picture\" para no \n",
        "#perder la información de las demás filas."
      ],
      "metadata": {
        "id": "iwQQlU1CzvyU"
      },
      "execution_count": 335,
      "outputs": []
    },
    {
      "cell_type": "code",
      "source": [
        "#Sustituir valores nulos por un string en concreto\n",
        "data5[\"264_technology_budget\"]= data5[\"264_technology_budget\"].fillna(\"No_info\")\n",
        "#Argumentacion: Se utilizó el método de sustituir los valores nulos por un valor en concreto. \n",
        "#En este caso los datos son las fotos de la mercancía siendo entregada. Los valores nulos son string y por eso se reemplazaron estos valores con la frase \"No_picture\" para no \n",
        "#perder la información de las demás filas."
      ],
      "metadata": {
        "id": "zjtDZkBYz4RH"
      },
      "execution_count": 336,
      "outputs": []
    },
    {
      "cell_type": "code",
      "source": [
        "#Sustituir valores nulos por un string en concreto\n",
        "data5[\"267_technology_investment_customer_preferences\"]= data5[\"267_technology_investment_customer_preferences\"].fillna(\"No_info\")\n",
        "#Argumentacion: Se utilizó el método de sustituir los valores nulos por un valor en concreto. \n",
        "#En este caso los datos son las fotos de la mercancía siendo entregada. Los valores nulos son string y por eso se reemplazaron estos valores con la frase \"No_picture\" para no \n",
        "#perder la información de las demás filas."
      ],
      "metadata": {
        "id": "ncr4cIkl0Ata"
      },
      "execution_count": 337,
      "outputs": []
    },
    {
      "cell_type": "code",
      "source": [
        "#Sustituir valores nulos por valores no nulos hacia atrás \"backward fill\" (\"bfill\")\n",
        "#Filtro por columnas\n",
        "data5[\"234_willingness_participate_workshop\"] =data[\"234_willingness_participate_workshop\"].fillna(\"No answer\")\n",
        "#Argumentación: Se utilizó el filtro de backward fill para rellenar los valores nulos con los string \"Yes\" o \"No\" que están detrás del valor \n",
        "#nulo para que los datos de la columna puedan variar entre \"Yes\" y \"No\""
      ],
      "metadata": {
        "id": "GxJjsKrk0MZw"
      },
      "execution_count": 338,
      "outputs": []
    },
    {
      "cell_type": "code",
      "source": [
        "#Sustituir valores nulos por un string en concreto\n",
        "data5[\"318_shopkeeper_name\"]= data5[\"318_shopkeeper_name\"].fillna(\"No_info\")\n",
        "#Argumentacion: Se utilizó el método de sustituir los valores nulos por un valor en concreto. \n",
        "#En este caso los datos son las fotos de la mercancía siendo entregada. Los valores nulos son string y por eso se reemplazaron estos valores con la frase \"No_picture\" para no \n",
        "#perder la información de las demás filas."
      ],
      "metadata": {
        "id": "SHEjPw4P0ZCs"
      },
      "execution_count": 339,
      "outputs": []
    },
    {
      "cell_type": "code",
      "source": [
        "#Sustituir valores nulos por un string en concreto\n",
        "data5[\"319_shopkeepers_last_name\"]= data5[\"319_shopkeepers_last_name\"].fillna(\"No_info\")\n",
        "#Argumentacion: Se utilizó el método de sustituir los valores nulos por un valor en concreto. \n",
        "#En este caso los datos son las fotos de la mercancía siendo entregada. Los valores nulos son string y por eso se reemplazaron estos valores con la frase \"No_picture\" para no \n",
        "#perder la información de las demás filas."
      ],
      "metadata": {
        "id": "kDY1CM1G0Y2M"
      },
      "execution_count": 340,
      "outputs": []
    },
    {
      "cell_type": "code",
      "source": [
        "#Sustituir valores nulos por un string en concreto\n",
        "data5[\"236_whatsapp\"]= data5[\"236_whatsapp\"].fillna(\"No_info\")\n",
        "#Argumentacion: Se utilizó el método de sustituir los valores nulos por un valor en concreto. \n",
        "#En este caso los datos son las fotos de la mercancía siendo entregada. Los valores nulos son string y por eso se reemplazaron estos valores con la frase \"No_picture\" para no \n",
        "#perder la información de las demás filas."
      ],
      "metadata": {
        "id": "HhcZgd420qiD"
      },
      "execution_count": 341,
      "outputs": []
    },
    {
      "cell_type": "code",
      "source": [
        "#Sustituir valores nulos por un string en concreto\n",
        "data5[\"235_email\"]= data5[\"235_email\"].fillna(\"No_info\")\n",
        "#Argumentacion: Se utilizó el método de sustituir los valores nulos por un valor en concreto. \n",
        "#En este caso los datos son las fotos de la mercancía siendo entregada. Los valores nulos son string y por eso se reemplazaron estos valores con la frase \"No_picture\" para no \n",
        "#perder la información de las demás filas."
      ],
      "metadata": {
        "id": "y7QdzkMF0zXb"
      },
      "execution_count": 342,
      "outputs": []
    },
    {
      "cell_type": "code",
      "source": [
        "#Corroboramos valores nulos \n",
        "valores_nulos=data5.isnull().sum().sum()\n",
        "valores_nulos"
      ],
      "metadata": {
        "colab": {
          "base_uri": "https://localhost:8080/"
        },
        "id": "X6ckojLljHmJ",
        "outputId": "cf13f825-a598-428b-a9a4-b9c1248a2b62"
      },
      "execution_count": 343,
      "outputs": [
        {
          "output_type": "execute_result",
          "data": {
            "text/plain": [
              "1907"
            ]
          },
          "metadata": {},
          "execution_count": 343
        }
      ]
    },
    {
      "cell_type": "code",
      "source": [
        "data5.info()"
      ],
      "metadata": {
        "colab": {
          "base_uri": "https://localhost:8080/"
        },
        "id": "tha3gwIv05vu",
        "outputId": "dfa6dbf7-1737-429d-85ac-50a8ef132912"
      },
      "execution_count": 344,
      "outputs": [
        {
          "output_type": "stream",
          "name": "stdout",
          "text": [
            "<class 'pandas.core.frame.DataFrame'>\n",
            "RangeIndex: 171 entries, 0 to 170\n",
            "Columns: 102 entries, _record_id to 235_email\n",
            "dtypes: float64(18), int64(2), object(82)\n",
            "memory usage: 136.4+ KB\n"
          ]
        }
      ]
    },
    {
      "cell_type": "code",
      "source": [
        "#Filtro por columnas\n",
        "filtro_cual=data5.iloc[ : , [0,1,2,3,4,5,6,7,8,9,10,11,12,15,17,18,19,20,23,24,25,26,27,28,30,32,34,35,36,37,38,39,40,42,43,44,46,48,49,50,51,57,58,59,60,61,62,63,64,65,66,67,68,69,70,71,72,73,75,76,77,78,79,80,81,82,83,84,85,87,88,89,90,91,92,93,94,95,96,97,98,99,100,101]]\n",
        "#filtro_cual=data.iloc[ : , [12, 26, 27, 28, 29, 30, 31]]\n",
        "#filtro3=df.iloc[ : , [1,4,6]]  #columnas no consecutivas \n",
        "filtro_cual"
      ],
      "metadata": {
        "id": "eUmVq8Ix1P0Z"
      },
      "execution_count": null,
      "outputs": []
    },
    {
      "cell_type": "code",
      "source": [
        "#Filtro por columnas\n",
        "filtro1=data5.iloc[ : , [13,14,16,21,22,29,31,33,41,45,47,52,53,54,55,56,74,86]]\n",
        "#filtro3=df.iloc[ : , [1,4,6]]  #columnas no consecutivas \n",
        "filtro1"
      ],
      "metadata": {
        "id": "9aTvJ7QW1SP-"
      },
      "execution_count": null,
      "outputs": []
    },
    {
      "cell_type": "code",
      "source": [
        "#Corroboramos valores nulos \n",
        "valores_nulos=filtro_cual.isnull().sum().sum()\n",
        "valores_nulos"
      ],
      "metadata": {
        "colab": {
          "base_uri": "https://localhost:8080/"
        },
        "id": "TxO8Zup14YF1",
        "outputId": "982c269d-556e-47e8-85a0-2a119b8e721a"
      },
      "execution_count": 347,
      "outputs": [
        {
          "output_type": "execute_result",
          "data": {
            "text/plain": [
              "0"
            ]
          },
          "metadata": {},
          "execution_count": 347
        }
      ]
    },
    {
      "cell_type": "code",
      "source": [
        "#Corroboramos valores nulos \n",
        "valores_nulos=filtro1.isnull().sum()\n",
        "valores_nulos"
      ],
      "metadata": {
        "colab": {
          "base_uri": "https://localhost:8080/"
        },
        "id": "JBL3i_NW8h3B",
        "outputId": "fdd5c021-bc5f-4b77-f29e-7afc99a3ce21"
      },
      "execution_count": 348,
      "outputs": [
        {
          "output_type": "execute_result",
          "data": {
            "text/plain": [
              "97_number_of_customers_in_store                        0\n",
              "268_number_fridges                                     3\n",
              "104_how_many_shelves_does_the_micro_retailer_have      0\n",
              "2_current_permanent_employees                         60\n",
              "4_number_permanent_employees_last_year                76\n",
              "103_number_own_fridges                               144\n",
              "145_number_direct_competitors                         68\n",
              "24_burnout                                           133\n",
              "272_card_days_receive_money                          127\n",
              "276_expected_days_informal_credit                    147\n",
              "36_credit_default_rate                               157\n",
              "315_frequency_topups                                 161\n",
              "316_frequency_utility_bills                          169\n",
              "317_home_deliveries                                  154\n",
              "62_frequency_only_services                           147\n",
              "78_number_home_deliveries_week                       169\n",
              "172_supplier_frequency                                99\n",
              "163_number_high_perishable_products                   93\n",
              "dtype: int64"
            ]
          },
          "metadata": {},
          "execution_count": 348
        }
      ]
    },
    {
      "cell_type": "code",
      "source": [
        "#Método aplicando Cuartiles. Encuentro cuartiles 0.25 y 0.75\n",
        "y=filtro1\n",
        "percentile25=y.quantile(0.25) #Q1\n",
        "percentile75=y.quantile(0.75) #Q2\n",
        "iqr= percentile75 - percentile25\n",
        "Limite_Superior_iqr= percentile75 + 1.5*iqr\n",
        "Limite_Inferior_iqr= percentile25 - 1.5*iqr\n",
        "print(\"Limite superior permitido\", Limite_Superior_iqr)\n",
        "print(\"Limite inferior permitido\", Limite_Inferior_iqr)\n",
        "#Utilizamos el método de Cuartiles para encontrar los cuartiles 0.25 y 0.75 de la columna, para posteriormente identificarlos y limpiar los datos, \n",
        "#es decir sustituir estos valores atípicos o outliers. "
      ],
      "metadata": {
        "id": "Peq8h25g8p1B"
      },
      "execution_count": null,
      "outputs": []
    },
    {
      "cell_type": "code",
      "source": [
        "#Encontramos Outliers\n",
        "outliers_iqr= filtro1[(y>Limite_Superior_iqr)|(y<Limite_Inferior_iqr)]\n",
        "outliers_iqr"
      ],
      "metadata": {
        "id": "UcTYA5mj8uxh"
      },
      "execution_count": null,
      "outputs": []
    },
    {
      "cell_type": "code",
      "source": [
        "#Obtenemos datos limpios\n",
        "data_clean_iqr= filtro1[(y<=Limite_Superior_iqr)&(y>=Limite_Inferior_iqr)]\n",
        "data_clean_iqr"
      ],
      "metadata": {
        "id": "p2XyOXjA8yiN"
      },
      "execution_count": null,
      "outputs": []
    },
    {
      "cell_type": "code",
      "source": [
        "#Corroboramos valores nulos \n",
        "valores_nulos=data_clean_iqr.isnull().sum()\n",
        "valores_nulos"
      ],
      "metadata": {
        "id": "eSi4nE5U82hR"
      },
      "execution_count": null,
      "outputs": []
    },
    {
      "cell_type": "code",
      "source": [
        "#Reemplazamos valores atípicos (nulos) del dataframe con \"mean\"\n",
        "#Realizamos una copia del dataframe\n",
        "data_clean=data_clean_iqr.copy()\n",
        "data_clean=data_clean_iqr.fillna(round(data_clean_iqr.mean(),1))\n",
        "data_clean"
      ],
      "metadata": {
        "id": "BMSP-0sl86ex"
      },
      "execution_count": null,
      "outputs": []
    },
    {
      "cell_type": "code",
      "source": [
        "#Corroboramos valores nulos \n",
        "valores_nulos=data_clean.isnull().sum()\n",
        "valores_nulos"
      ],
      "metadata": {
        "id": "tHReSqVc9EZ4"
      },
      "execution_count": null,
      "outputs": []
    },
    {
      "cell_type": "code",
      "source": [
        "Micro_limpio = pd.concat([data_clean, filtro_cual], axis=1)\n",
        "Micro_limpio"
      ],
      "metadata": {
        "id": "3JJzTpmh9KWW"
      },
      "execution_count": null,
      "outputs": []
    },
    {
      "cell_type": "code",
      "source": [
        "#Corroboramos valores nulos \n",
        "valores_nulos=Micro_limpio.isnull().sum().sum()\n",
        "valores_nulos"
      ],
      "metadata": {
        "id": "Aq-ozUkx9WJm"
      },
      "execution_count": null,
      "outputs": []
    },
    {
      "cell_type": "code",
      "source": [
        "#Convertir DataFrame a CSV \n",
        "Micro_limpio.to_csv(\"Micro_limpio.csv\")"
      ],
      "metadata": {
        "id": "vjpcFye19doR"
      },
      "execution_count": 358,
      "outputs": []
    },
    {
      "cell_type": "code",
      "source": [
        "#Descargar archivo filtrado en csv \n",
        "from google.colab import files \n",
        "files.download(\"Micro_limpio.csv\")"
      ],
      "metadata": {
        "colab": {
          "base_uri": "https://localhost:8080/",
          "height": 17
        },
        "id": "qTnRBUcs9i9h",
        "outputId": "5bff99d1-9d9d-443c-9456-dae28632bcb2"
      },
      "execution_count": 359,
      "outputs": [
        {
          "output_type": "display_data",
          "data": {
            "text/plain": [
              "<IPython.core.display.Javascript object>"
            ],
            "application/javascript": [
              "\n",
              "    async function download(id, filename, size) {\n",
              "      if (!google.colab.kernel.accessAllowed) {\n",
              "        return;\n",
              "      }\n",
              "      const div = document.createElement('div');\n",
              "      const label = document.createElement('label');\n",
              "      label.textContent = `Downloading \"${filename}\": `;\n",
              "      div.appendChild(label);\n",
              "      const progress = document.createElement('progress');\n",
              "      progress.max = size;\n",
              "      div.appendChild(progress);\n",
              "      document.body.appendChild(div);\n",
              "\n",
              "      const buffers = [];\n",
              "      let downloaded = 0;\n",
              "\n",
              "      const channel = await google.colab.kernel.comms.open(id);\n",
              "      // Send a message to notify the kernel that we're ready.\n",
              "      channel.send({})\n",
              "\n",
              "      for await (const message of channel.messages) {\n",
              "        // Send a message to notify the kernel that we're ready.\n",
              "        channel.send({})\n",
              "        if (message.buffers) {\n",
              "          for (const buffer of message.buffers) {\n",
              "            buffers.push(buffer);\n",
              "            downloaded += buffer.byteLength;\n",
              "            progress.value = downloaded;\n",
              "          }\n",
              "        }\n",
              "      }\n",
              "      const blob = new Blob(buffers, {type: 'application/binary'});\n",
              "      const a = document.createElement('a');\n",
              "      a.href = window.URL.createObjectURL(blob);\n",
              "      a.download = filename;\n",
              "      div.appendChild(a);\n",
              "      a.click();\n",
              "      div.remove();\n",
              "    }\n",
              "  "
            ]
          },
          "metadata": {}
        },
        {
          "output_type": "display_data",
          "data": {
            "text/plain": [
              "<IPython.core.display.Javascript object>"
            ],
            "application/javascript": [
              "download(\"download_9a55c62c-86e6-4248-9513-3198c725f8ba\", \"Micro_limpio.csv\", 200501)"
            ]
          },
          "metadata": {}
        }
      ]
    }
  ]
}